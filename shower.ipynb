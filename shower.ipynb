{
 "cells": [
  {
   "cell_type": "markdown",
   "metadata": {},
   "source": [
    "# DATA SCIENCE WINTER TERM PROJECT\n",
    "\n",
    "-----\n",
    "\n",
    "## PROJECT: Using Data Science and Machine Learning to Explore Water Use Habit of Noah's Residents.\n",
    "\n",
    "---------\n",
    "\n",
    "**GROUP MEMBER:** \n",
    "- Trung Nguyen \n",
    "- Binh Nguyen\n",
    "\n",
    "----------------"
   ]
  },
  {
   "attachments": {},
   "cell_type": "markdown",
   "metadata": {},
   "source": [
    "### I. Project Introduction\n",
    "\n",
    "Sometimes, we feel like picking a time to shower can be a game of gacha. If we are lucky, the water pressure will be strong and you will have a good time showering. However, if we are unlucky, then we might have a rough time. \n",
    "\n",
    "Thanks to the dataset from the environmental dashboard, we can now look at how people in Noah use water.\n",
    "\n",
    "This project aim is to look at the trend of the water usage in Noah and then try to predict it using Machine Learning. "
   ]
  },
  {
   "cell_type": "code",
   "execution_count": 60,
   "metadata": {},
   "outputs": [],
   "source": [
    "import pandas as pd\n",
    "import numpy as np\n",
    "import matplotlib.pyplot as plt"
   ]
  },
  {
   "cell_type": "markdown",
   "metadata": {},
   "source": [
    "-------------------\n",
    "### II. Dataset Description\n",
    "\n",
    "#### A. Dataset Overview\n",
    "Our dataset is a collective dataset that is continuously taken for the last 5 years, from 2018 to 2021.\n",
    "\n",
    "The format of the data looks something like this:\n",
    "\n",
    "|Timestamp    |Water Use (gal)|\n",
    "|:---         |:----:         |\n",
    "|1/1/2018 0:00|0              |\n",
    "|1/1/2018 0:15|0              |\n",
    "|1/1/2018 0:30|0              |\n",
    "\n",
    "As the meters take measures every 15 minutes, there will be a period of 15 minutes in between our timestamps.\n",
    "\n",
    "#### B. Data Cleaning & Preprocessing\n",
    "\n",
    "We deleted all rows that consist of all null values and incorrectly formatted data.\n",
    "\n",
    "We also reformatted our data by splitting the our **Timestamp** into different columns: **Date, Year, Month, Day, Time, and Water**\n",
    "\n",
    "Basically, our new table looks like this:\n",
    "\n",
    "|     |Date      |Year|Month|Day   |Time    |Water  |\n",
    "|:----|---------:|:--:|:---:|:-----|:-------|:------|\n",
    "|**0**|2018-01-01|2018|1    |Monday|08:00:00|0.00000|\n",
    "|**1**|2018-01-01|2018|1    |Monday|08:15:00|0.00000|\n",
    "|**2**|2018-01-01|2018|1    |Monday|08:30:00|0.00000|\n"
   ]
  },
  {
   "cell_type": "code",
   "execution_count": 61,
   "metadata": {
    "scrolled": true
   },
   "outputs": [
    {
     "data": {
      "text/html": [
       "<div>\n",
       "<style scoped>\n",
       "    .dataframe tbody tr th:only-of-type {\n",
       "        vertical-align: middle;\n",
       "    }\n",
       "\n",
       "    .dataframe tbody tr th {\n",
       "        vertical-align: top;\n",
       "    }\n",
       "\n",
       "    .dataframe thead th {\n",
       "        text-align: right;\n",
       "    }\n",
       "</style>\n",
       "<table border=\"1\" class=\"dataframe\">\n",
       "  <thead>\n",
       "    <tr style=\"text-align: right;\">\n",
       "      <th></th>\n",
       "      <th>Date</th>\n",
       "      <th>Year</th>\n",
       "      <th>Month</th>\n",
       "      <th>Day</th>\n",
       "      <th>Time</th>\n",
       "      <th>Water</th>\n",
       "    </tr>\n",
       "  </thead>\n",
       "  <tbody>\n",
       "    <tr>\n",
       "      <th>0</th>\n",
       "      <td>2018-01-01</td>\n",
       "      <td>2018</td>\n",
       "      <td>1</td>\n",
       "      <td>Monday</td>\n",
       "      <td>00:00</td>\n",
       "      <td>0.00000</td>\n",
       "    </tr>\n",
       "    <tr>\n",
       "      <th>1</th>\n",
       "      <td>2018-01-01</td>\n",
       "      <td>2018</td>\n",
       "      <td>1</td>\n",
       "      <td>Monday</td>\n",
       "      <td>00:15</td>\n",
       "      <td>0.00000</td>\n",
       "    </tr>\n",
       "    <tr>\n",
       "      <th>2</th>\n",
       "      <td>2018-01-01</td>\n",
       "      <td>2018</td>\n",
       "      <td>1</td>\n",
       "      <td>Monday</td>\n",
       "      <td>00:30</td>\n",
       "      <td>0.00000</td>\n",
       "    </tr>\n",
       "    <tr>\n",
       "      <th>3</th>\n",
       "      <td>2018-01-01</td>\n",
       "      <td>2018</td>\n",
       "      <td>1</td>\n",
       "      <td>Monday</td>\n",
       "      <td>00:45</td>\n",
       "      <td>0.00000</td>\n",
       "    </tr>\n",
       "    <tr>\n",
       "      <th>4</th>\n",
       "      <td>2018-01-01</td>\n",
       "      <td>2018</td>\n",
       "      <td>1</td>\n",
       "      <td>Monday</td>\n",
       "      <td>01:00</td>\n",
       "      <td>0.00000</td>\n",
       "    </tr>\n",
       "    <tr>\n",
       "      <th>...</th>\n",
       "      <td>...</td>\n",
       "      <td>...</td>\n",
       "      <td>...</td>\n",
       "      <td>...</td>\n",
       "      <td>...</td>\n",
       "      <td>...</td>\n",
       "    </tr>\n",
       "    <tr>\n",
       "      <th>26092</th>\n",
       "      <td>2023-01-11</td>\n",
       "      <td>2023</td>\n",
       "      <td>1</td>\n",
       "      <td>Wednesday</td>\n",
       "      <td>14:30</td>\n",
       "      <td>10.03200</td>\n",
       "    </tr>\n",
       "    <tr>\n",
       "      <th>26093</th>\n",
       "      <td>2023-01-11</td>\n",
       "      <td>2023</td>\n",
       "      <td>1</td>\n",
       "      <td>Wednesday</td>\n",
       "      <td>14:45</td>\n",
       "      <td>12.62555</td>\n",
       "    </tr>\n",
       "    <tr>\n",
       "      <th>26094</th>\n",
       "      <td>2023-01-11</td>\n",
       "      <td>2023</td>\n",
       "      <td>1</td>\n",
       "      <td>Wednesday</td>\n",
       "      <td>15:00</td>\n",
       "      <td>4.08202</td>\n",
       "    </tr>\n",
       "    <tr>\n",
       "      <th>26095</th>\n",
       "      <td>2023-01-11</td>\n",
       "      <td>2023</td>\n",
       "      <td>1</td>\n",
       "      <td>Wednesday</td>\n",
       "      <td>15:15</td>\n",
       "      <td>5.05054</td>\n",
       "    </tr>\n",
       "    <tr>\n",
       "      <th>26096</th>\n",
       "      <td>2023-01-11</td>\n",
       "      <td>2023</td>\n",
       "      <td>1</td>\n",
       "      <td>Wednesday</td>\n",
       "      <td>15:30</td>\n",
       "      <td>0.00000</td>\n",
       "    </tr>\n",
       "  </tbody>\n",
       "</table>\n",
       "<p>123045 rows × 6 columns</p>\n",
       "</div>"
      ],
      "text/plain": [
       "            Date  Year  Month        Day   Time     Water\n",
       "0     2018-01-01  2018      1     Monday  00:00   0.00000\n",
       "1     2018-01-01  2018      1     Monday  00:15   0.00000\n",
       "2     2018-01-01  2018      1     Monday  00:30   0.00000\n",
       "3     2018-01-01  2018      1     Monday  00:45   0.00000\n",
       "4     2018-01-01  2018      1     Monday  01:00   0.00000\n",
       "...          ...   ...    ...        ...    ...       ...\n",
       "26092 2023-01-11  2023      1  Wednesday  14:30  10.03200\n",
       "26093 2023-01-11  2023      1  Wednesday  14:45  12.62555\n",
       "26094 2023-01-11  2023      1  Wednesday  15:00   4.08202\n",
       "26095 2023-01-11  2023      1  Wednesday  15:15   5.05054\n",
       "26096 2023-01-11  2023      1  Wednesday  15:30   0.00000\n",
       "\n",
       "[123045 rows x 6 columns]"
      ]
     },
     "execution_count": 61,
     "metadata": {},
     "output_type": "execute_result"
    }
   ],
   "source": [
    "df0 = pd.read_csv(\"data/Noah_5Years_000.csv\", skiprows=4)\n",
    "df1 = pd.read_csv(\"data/Noah_5Years_002.csv\", skiprows=4)\n",
    "df2 = pd.read_csv(\"data/Noah_5Years_003.csv\", skiprows=4)\n",
    "\n",
    "df = pd.concat([df0, df1, df2])\n",
    "df = df[['Timestamp', 'Noah - Water Use (gal)']]\n",
    "df[['Date', 'Time']] = df['Timestamp'].str.split(' ', expand = True)\n",
    "df['Date'] = pd.to_datetime(df['Date'])\n",
    "df['Year'] = df['Date'].dt.year\n",
    "df['Month'] = df['Date'].dt.month\n",
    "df['Day'] = df['Date'].dt.day_name()\n",
    "df = df[['Date', 'Year', 'Month', 'Day', 'Time', 'Noah - Water Use (gal)']]\n",
    "df.columns = ['Date', 'Year', 'Month', 'Day', 'Time', 'Water']\n",
    "\n",
    "df.dropna(inplace=True)\n",
    "new_df = df\n",
    "new_df"
   ]
  },
  {
   "cell_type": "markdown",
   "metadata": {},
   "source": [
    "---------------\n",
    "### III. Exploring the Trend\n",
    "\n",
    "#### A. Over the Last 5 Years\n",
    "\n",
    "Our first step is to look at the water usage in the last 5 consecutive years. By plotting out the bar chart, we can easily compare each year's usage.\n",
    "\n",
    "This is our Dataset."
   ]
  },
  {
   "cell_type": "code",
   "execution_count": 62,
   "metadata": {},
   "outputs": [
    {
     "data": {
      "text/html": [
       "<div>\n",
       "<style scoped>\n",
       "    .dataframe tbody tr th:only-of-type {\n",
       "        vertical-align: middle;\n",
       "    }\n",
       "\n",
       "    .dataframe tbody tr th {\n",
       "        vertical-align: top;\n",
       "    }\n",
       "\n",
       "    .dataframe thead th {\n",
       "        text-align: right;\n",
       "    }\n",
       "</style>\n",
       "<table border=\"1\" class=\"dataframe\">\n",
       "  <thead>\n",
       "    <tr style=\"text-align: right;\">\n",
       "      <th></th>\n",
       "      <th>Date</th>\n",
       "      <th>Year</th>\n",
       "      <th>Month</th>\n",
       "      <th>Day</th>\n",
       "      <th>Time</th>\n",
       "      <th>Water</th>\n",
       "    </tr>\n",
       "  </thead>\n",
       "  <tbody>\n",
       "    <tr>\n",
       "      <th>0</th>\n",
       "      <td>2018-01-01</td>\n",
       "      <td>2018</td>\n",
       "      <td>1</td>\n",
       "      <td>Monday</td>\n",
       "      <td>00:00</td>\n",
       "      <td>0.00000</td>\n",
       "    </tr>\n",
       "    <tr>\n",
       "      <th>1</th>\n",
       "      <td>2018-01-01</td>\n",
       "      <td>2018</td>\n",
       "      <td>1</td>\n",
       "      <td>Monday</td>\n",
       "      <td>00:15</td>\n",
       "      <td>0.00000</td>\n",
       "    </tr>\n",
       "    <tr>\n",
       "      <th>2</th>\n",
       "      <td>2018-01-01</td>\n",
       "      <td>2018</td>\n",
       "      <td>1</td>\n",
       "      <td>Monday</td>\n",
       "      <td>00:30</td>\n",
       "      <td>0.00000</td>\n",
       "    </tr>\n",
       "    <tr>\n",
       "      <th>3</th>\n",
       "      <td>2018-01-01</td>\n",
       "      <td>2018</td>\n",
       "      <td>1</td>\n",
       "      <td>Monday</td>\n",
       "      <td>00:45</td>\n",
       "      <td>0.00000</td>\n",
       "    </tr>\n",
       "    <tr>\n",
       "      <th>4</th>\n",
       "      <td>2018-01-01</td>\n",
       "      <td>2018</td>\n",
       "      <td>1</td>\n",
       "      <td>Monday</td>\n",
       "      <td>01:00</td>\n",
       "      <td>0.00000</td>\n",
       "    </tr>\n",
       "    <tr>\n",
       "      <th>...</th>\n",
       "      <td>...</td>\n",
       "      <td>...</td>\n",
       "      <td>...</td>\n",
       "      <td>...</td>\n",
       "      <td>...</td>\n",
       "      <td>...</td>\n",
       "    </tr>\n",
       "    <tr>\n",
       "      <th>26092</th>\n",
       "      <td>2023-01-11</td>\n",
       "      <td>2023</td>\n",
       "      <td>1</td>\n",
       "      <td>Wednesday</td>\n",
       "      <td>14:30</td>\n",
       "      <td>10.03200</td>\n",
       "    </tr>\n",
       "    <tr>\n",
       "      <th>26093</th>\n",
       "      <td>2023-01-11</td>\n",
       "      <td>2023</td>\n",
       "      <td>1</td>\n",
       "      <td>Wednesday</td>\n",
       "      <td>14:45</td>\n",
       "      <td>12.62555</td>\n",
       "    </tr>\n",
       "    <tr>\n",
       "      <th>26094</th>\n",
       "      <td>2023-01-11</td>\n",
       "      <td>2023</td>\n",
       "      <td>1</td>\n",
       "      <td>Wednesday</td>\n",
       "      <td>15:00</td>\n",
       "      <td>4.08202</td>\n",
       "    </tr>\n",
       "    <tr>\n",
       "      <th>26095</th>\n",
       "      <td>2023-01-11</td>\n",
       "      <td>2023</td>\n",
       "      <td>1</td>\n",
       "      <td>Wednesday</td>\n",
       "      <td>15:15</td>\n",
       "      <td>5.05054</td>\n",
       "    </tr>\n",
       "    <tr>\n",
       "      <th>26096</th>\n",
       "      <td>2023-01-11</td>\n",
       "      <td>2023</td>\n",
       "      <td>1</td>\n",
       "      <td>Wednesday</td>\n",
       "      <td>15:30</td>\n",
       "      <td>0.00000</td>\n",
       "    </tr>\n",
       "  </tbody>\n",
       "</table>\n",
       "<p>123045 rows × 6 columns</p>\n",
       "</div>"
      ],
      "text/plain": [
       "            Date  Year  Month        Day   Time     Water\n",
       "0     2018-01-01  2018      1     Monday  00:00   0.00000\n",
       "1     2018-01-01  2018      1     Monday  00:15   0.00000\n",
       "2     2018-01-01  2018      1     Monday  00:30   0.00000\n",
       "3     2018-01-01  2018      1     Monday  00:45   0.00000\n",
       "4     2018-01-01  2018      1     Monday  01:00   0.00000\n",
       "...          ...   ...    ...        ...    ...       ...\n",
       "26092 2023-01-11  2023      1  Wednesday  14:30  10.03200\n",
       "26093 2023-01-11  2023      1  Wednesday  14:45  12.62555\n",
       "26094 2023-01-11  2023      1  Wednesday  15:00   4.08202\n",
       "26095 2023-01-11  2023      1  Wednesday  15:15   5.05054\n",
       "26096 2023-01-11  2023      1  Wednesday  15:30   0.00000\n",
       "\n",
       "[123045 rows x 6 columns]"
      ]
     },
     "execution_count": 62,
     "metadata": {},
     "output_type": "execute_result"
    }
   ],
   "source": [
    "# new_df = pd.concat([df0, df1, df2])\n",
    "# new_df = new_df[['Timestamp', 'Noah - Water Use (gal)']]\n",
    "# new_df[['Date', 'Time']] = new_df['Timestamp'].str.split(' ', expand = True)\n",
    "# new_df['Date'] = pd.to_datetime(new_df['Date'])\n",
    "# new_df['Year'] = new_df['Date'].dt.year\n",
    "# new_df['Month'] = new_df['Date'].dt.month\n",
    "# new_df['Day'] = new_df['Date'].dt.day_name()\n",
    "# new_df = new_df[['Date', 'Year', 'Month', 'Day', 'Time', 'Noah - Water Use (gal)']]\n",
    "\n",
    "# new_df.dropna(inplace=True)\n",
    "new_df"
   ]
  },
  {
   "cell_type": "code",
   "execution_count": 63,
   "metadata": {},
   "outputs": [
    {
     "data": {
      "text/plain": [
       "505818.60224"
      ]
     },
     "execution_count": 63,
     "metadata": {},
     "output_type": "execute_result"
    }
   ],
   "source": [
    "df2022 = new_df[new_df['Year'] == 2022]\n",
    "df2022['Water'].sum(axis = 0)"
   ]
  },
  {
   "cell_type": "markdown",
   "metadata": {},
   "source": [
    "Calculate the total usage of each year."
   ]
  },
  {
   "cell_type": "code",
   "execution_count": 64,
   "metadata": {},
   "outputs": [
    {
     "data": {
      "text/html": [
       "<div>\n",
       "<style scoped>\n",
       "    .dataframe tbody tr th:only-of-type {\n",
       "        vertical-align: middle;\n",
       "    }\n",
       "\n",
       "    .dataframe tbody tr th {\n",
       "        vertical-align: top;\n",
       "    }\n",
       "\n",
       "    .dataframe thead th {\n",
       "        text-align: right;\n",
       "    }\n",
       "</style>\n",
       "<table border=\"1\" class=\"dataframe\">\n",
       "  <thead>\n",
       "    <tr style=\"text-align: right;\">\n",
       "      <th></th>\n",
       "      <th>Year</th>\n",
       "      <th>Water Use (gal)</th>\n",
       "    </tr>\n",
       "  </thead>\n",
       "  <tbody>\n",
       "    <tr>\n",
       "      <th>0</th>\n",
       "      <td>2018</td>\n",
       "      <td>396367.67509</td>\n",
       "    </tr>\n",
       "    <tr>\n",
       "      <th>1</th>\n",
       "      <td>2019</td>\n",
       "      <td>192178.86690</td>\n",
       "    </tr>\n",
       "    <tr>\n",
       "      <th>2</th>\n",
       "      <td>2020</td>\n",
       "      <td>33499.22911</td>\n",
       "    </tr>\n",
       "    <tr>\n",
       "      <th>3</th>\n",
       "      <td>2021</td>\n",
       "      <td>389750.09580</td>\n",
       "    </tr>\n",
       "    <tr>\n",
       "      <th>4</th>\n",
       "      <td>2022</td>\n",
       "      <td>505818.60224</td>\n",
       "    </tr>\n",
       "  </tbody>\n",
       "</table>\n",
       "</div>"
      ],
      "text/plain": [
       "   Year  Water Use (gal)\n",
       "0  2018     396367.67509\n",
       "1  2019     192178.86690\n",
       "2  2020      33499.22911\n",
       "3  2021     389750.09580\n",
       "4  2022     505818.60224"
      ]
     },
     "execution_count": 64,
     "metadata": {},
     "output_type": "execute_result"
    }
   ],
   "source": [
    "years = [2018, 2019, 2020, 2021, 2022]\n",
    "water_use = []\n",
    "\n",
    "for year in years:\n",
    "    buffer = new_df[new_df['Year'] == year]\n",
    "    total = buffer['Water'].sum(axis = 0)\n",
    "    water_use.append(total)\n",
    "    \n",
    "# water_use\n",
    "year_record = {\n",
    "    'Year' : years,\n",
    "    'Water Use (gal)' : water_use\n",
    "}\n",
    "\n",
    "year_df = pd.DataFrame(year_record, columns = ['Year', 'Water Use (gal)'])\n",
    "year_df"
   ]
  },
  {
   "cell_type": "markdown",
   "metadata": {},
   "source": [
    "Now we can plot it using bar chart.\n",
    "\n",
    "We can see that the water usage of 2019 and 2020 dropped as the pandemic occurred and people could not stay on campus.\n",
    "\n",
    "2021 saw the rise of the usage as things were steadily going back to normal."
   ]
  },
  {
   "cell_type": "code",
   "execution_count": 65,
   "metadata": {},
   "outputs": [
    {
     "data": {
      "image/png": "[encoded data removed]",
      "text/plain": [
       "<Figure size 432x288 with 1 Axes>"
      ]
     },
     "metadata": {
      "needs_background": "light"
     },
     "output_type": "display_data"
    }
   ],
   "source": [
    "year_df.plot(kind = 'bar', x = 'Year', y = 'Water Use (gal)', color = 'deepskyblue')\n",
    "plt.title('5-Year-Record')\n",
    "plt.show()"
   ]
  },
  {
   "cell_type": "markdown",
   "metadata": {},
   "source": [
    "------------\n",
    "#### B. Over 2022\n",
    "\n",
    "Now, we will look at each month of 2022."
   ]
  },
  {
   "cell_type": "code",
   "execution_count": 66,
   "metadata": {},
   "outputs": [
    {
     "data": {
      "text/html": [
       "<div>\n",
       "<style scoped>\n",
       "    .dataframe tbody tr th:only-of-type {\n",
       "        vertical-align: middle;\n",
       "    }\n",
       "\n",
       "    .dataframe tbody tr th {\n",
       "        vertical-align: top;\n",
       "    }\n",
       "\n",
       "    .dataframe thead th {\n",
       "        text-align: right;\n",
       "    }\n",
       "</style>\n",
       "<table border=\"1\" class=\"dataframe\">\n",
       "  <thead>\n",
       "    <tr style=\"text-align: right;\">\n",
       "      <th></th>\n",
       "      <th>Date</th>\n",
       "      <th>Year</th>\n",
       "      <th>Month</th>\n",
       "      <th>Day</th>\n",
       "      <th>Time</th>\n",
       "      <th>Water</th>\n",
       "    </tr>\n",
       "  </thead>\n",
       "  <tbody>\n",
       "    <tr>\n",
       "      <th>40072</th>\n",
       "      <td>2022-01-01</td>\n",
       "      <td>2022</td>\n",
       "      <td>1</td>\n",
       "      <td>Saturday</td>\n",
       "      <td>00:00</td>\n",
       "      <td>3.63205</td>\n",
       "    </tr>\n",
       "    <tr>\n",
       "      <th>40073</th>\n",
       "      <td>2022-01-01</td>\n",
       "      <td>2022</td>\n",
       "      <td>1</td>\n",
       "      <td>Saturday</td>\n",
       "      <td>00:15</td>\n",
       "      <td>5.63877</td>\n",
       "    </tr>\n",
       "    <tr>\n",
       "      <th>40074</th>\n",
       "      <td>2022-01-01</td>\n",
       "      <td>2022</td>\n",
       "      <td>1</td>\n",
       "      <td>Saturday</td>\n",
       "      <td>00:30</td>\n",
       "      <td>3.63215</td>\n",
       "    </tr>\n",
       "    <tr>\n",
       "      <th>40075</th>\n",
       "      <td>2022-01-01</td>\n",
       "      <td>2022</td>\n",
       "      <td>1</td>\n",
       "      <td>Saturday</td>\n",
       "      <td>00:45</td>\n",
       "      <td>6.19221</td>\n",
       "    </tr>\n",
       "    <tr>\n",
       "      <th>40076</th>\n",
       "      <td>2022-01-01</td>\n",
       "      <td>2022</td>\n",
       "      <td>1</td>\n",
       "      <td>Saturday</td>\n",
       "      <td>01:00</td>\n",
       "      <td>0.27672</td>\n",
       "    </tr>\n",
       "    <tr>\n",
       "      <th>...</th>\n",
       "      <td>...</td>\n",
       "      <td>...</td>\n",
       "      <td>...</td>\n",
       "      <td>...</td>\n",
       "      <td>...</td>\n",
       "      <td>...</td>\n",
       "    </tr>\n",
       "    <tr>\n",
       "      <th>25069</th>\n",
       "      <td>2022-12-31</td>\n",
       "      <td>2022</td>\n",
       "      <td>12</td>\n",
       "      <td>Saturday</td>\n",
       "      <td>22:45</td>\n",
       "      <td>0.86475</td>\n",
       "    </tr>\n",
       "    <tr>\n",
       "      <th>25070</th>\n",
       "      <td>2022-12-31</td>\n",
       "      <td>2022</td>\n",
       "      <td>12</td>\n",
       "      <td>Saturday</td>\n",
       "      <td>23:00</td>\n",
       "      <td>3.35533</td>\n",
       "    </tr>\n",
       "    <tr>\n",
       "      <th>25071</th>\n",
       "      <td>2022-12-31</td>\n",
       "      <td>2022</td>\n",
       "      <td>12</td>\n",
       "      <td>Saturday</td>\n",
       "      <td>23:15</td>\n",
       "      <td>2.83638</td>\n",
       "    </tr>\n",
       "    <tr>\n",
       "      <th>25072</th>\n",
       "      <td>2022-12-31</td>\n",
       "      <td>2022</td>\n",
       "      <td>12</td>\n",
       "      <td>Saturday</td>\n",
       "      <td>23:30</td>\n",
       "      <td>0.89934</td>\n",
       "    </tr>\n",
       "    <tr>\n",
       "      <th>25073</th>\n",
       "      <td>2022-12-31</td>\n",
       "      <td>2022</td>\n",
       "      <td>12</td>\n",
       "      <td>Saturday</td>\n",
       "      <td>23:45</td>\n",
       "      <td>0.93393</td>\n",
       "    </tr>\n",
       "  </tbody>\n",
       "</table>\n",
       "<p>34977 rows × 6 columns</p>\n",
       "</div>"
      ],
      "text/plain": [
       "            Date  Year  Month       Day   Time    Water\n",
       "40072 2022-01-01  2022      1  Saturday  00:00  3.63205\n",
       "40073 2022-01-01  2022      1  Saturday  00:15  5.63877\n",
       "40074 2022-01-01  2022      1  Saturday  00:30  3.63215\n",
       "40075 2022-01-01  2022      1  Saturday  00:45  6.19221\n",
       "40076 2022-01-01  2022      1  Saturday  01:00  0.27672\n",
       "...          ...   ...    ...       ...    ...      ...\n",
       "25069 2022-12-31  2022     12  Saturday  22:45  0.86475\n",
       "25070 2022-12-31  2022     12  Saturday  23:00  3.35533\n",
       "25071 2022-12-31  2022     12  Saturday  23:15  2.83638\n",
       "25072 2022-12-31  2022     12  Saturday  23:30  0.89934\n",
       "25073 2022-12-31  2022     12  Saturday  23:45  0.93393\n",
       "\n",
       "[34977 rows x 6 columns]"
      ]
     },
     "execution_count": 66,
     "metadata": {},
     "output_type": "execute_result"
    }
   ],
   "source": [
    "df2022"
   ]
  },
  {
   "cell_type": "markdown",
   "metadata": {},
   "source": [
    "We calculate the total usage of each month."
   ]
  },
  {
   "cell_type": "code",
   "execution_count": 67,
   "metadata": {},
   "outputs": [
    {
     "data": {
      "text/html": [
       "<div>\n",
       "<style scoped>\n",
       "    .dataframe tbody tr th:only-of-type {\n",
       "        vertical-align: middle;\n",
       "    }\n",
       "\n",
       "    .dataframe tbody tr th {\n",
       "        vertical-align: top;\n",
       "    }\n",
       "\n",
       "    .dataframe thead th {\n",
       "        text-align: right;\n",
       "    }\n",
       "</style>\n",
       "<table border=\"1\" class=\"dataframe\">\n",
       "  <thead>\n",
       "    <tr style=\"text-align: right;\">\n",
       "      <th></th>\n",
       "      <th>Month</th>\n",
       "      <th>Water Use (gal)</th>\n",
       "    </tr>\n",
       "  </thead>\n",
       "  <tbody>\n",
       "    <tr>\n",
       "      <th>0</th>\n",
       "      <td>1</td>\n",
       "      <td>44958.98543</td>\n",
       "    </tr>\n",
       "    <tr>\n",
       "      <th>1</th>\n",
       "      <td>2</td>\n",
       "      <td>50846.98439</td>\n",
       "    </tr>\n",
       "    <tr>\n",
       "      <th>2</th>\n",
       "      <td>3</td>\n",
       "      <td>63220.42987</td>\n",
       "    </tr>\n",
       "    <tr>\n",
       "      <th>3</th>\n",
       "      <td>4</td>\n",
       "      <td>50584.17156</td>\n",
       "    </tr>\n",
       "    <tr>\n",
       "      <th>4</th>\n",
       "      <td>5</td>\n",
       "      <td>60384.46523</td>\n",
       "    </tr>\n",
       "    <tr>\n",
       "      <th>5</th>\n",
       "      <td>6</td>\n",
       "      <td>8917.16964</td>\n",
       "    </tr>\n",
       "    <tr>\n",
       "      <th>6</th>\n",
       "      <td>7</td>\n",
       "      <td>2503.42018</td>\n",
       "    </tr>\n",
       "    <tr>\n",
       "      <th>7</th>\n",
       "      <td>8</td>\n",
       "      <td>13819.77730</td>\n",
       "    </tr>\n",
       "    <tr>\n",
       "      <th>8</th>\n",
       "      <td>9</td>\n",
       "      <td>59754.67702</td>\n",
       "    </tr>\n",
       "    <tr>\n",
       "      <th>9</th>\n",
       "      <td>10</td>\n",
       "      <td>54018.68021</td>\n",
       "    </tr>\n",
       "    <tr>\n",
       "      <th>10</th>\n",
       "      <td>11</td>\n",
       "      <td>54263.93444</td>\n",
       "    </tr>\n",
       "    <tr>\n",
       "      <th>11</th>\n",
       "      <td>12</td>\n",
       "      <td>42545.90697</td>\n",
       "    </tr>\n",
       "  </tbody>\n",
       "</table>\n",
       "</div>"
      ],
      "text/plain": [
       "    Month  Water Use (gal)\n",
       "0       1      44958.98543\n",
       "1       2      50846.98439\n",
       "2       3      63220.42987\n",
       "3       4      50584.17156\n",
       "4       5      60384.46523\n",
       "5       6       8917.16964\n",
       "6       7       2503.42018\n",
       "7       8      13819.77730\n",
       "8       9      59754.67702\n",
       "9      10      54018.68021\n",
       "10     11      54263.93444\n",
       "11     12      42545.90697"
      ]
     },
     "execution_count": 67,
     "metadata": {},
     "output_type": "execute_result"
    }
   ],
   "source": [
    "months = [1, 2, 3, 4, 5, 6, 7, 8, 9, 10, 11, 12]\n",
    "monthly_usage_2022 = []\n",
    "\n",
    "for month in months:\n",
    "    buffer = df2022[df2022['Month'] == month]\n",
    "    total = buffer['Water'].sum(axis = 0)\n",
    "    monthly_usage_2022.append(total)\n",
    "    \n",
    "# monthly_usage\n",
    "record_of_2022 = {\n",
    "    'Month' : months,\n",
    "    'Water Use (gal)' : monthly_usage_2022\n",
    "}\n",
    "\n",
    "df_2022_rec = pd.DataFrame(record_of_2022, columns = ['Month', 'Water Use (gal)'])\n",
    "df_2022_rec"
   ]
  },
  {
   "cell_type": "markdown",
   "metadata": {},
   "source": [
    "We can see that the usage in January and February was lowered as people were away during winter term.\n",
    "\n",
    "June, July, and August were the Summer Break.\n",
    "\n",
    "And December's usage declined due to Winter Break."
   ]
  },
  {
   "cell_type": "code",
   "execution_count": 68,
   "metadata": {},
   "outputs": [
    {
     "data": {
      "image/png": "[encoded data removed]",
      "text/plain": [
       "<Figure size 432x288 with 1 Axes>"
      ]
     },
     "metadata": {
      "needs_background": "light"
     },
     "output_type": "display_data"
    }
   ],
   "source": [
    "df_2022_rec.plot(kind = 'bar', x = 'Month', y = 'Water Use (gal)', color = 'deepskyblue')\n",
    "plt.title('Water Usage of 2022')\n",
    "plt.show()"
   ]
  },
  {
   "cell_type": "markdown",
   "metadata": {},
   "source": [
    "----------\n",
    "#### C. Over 2021\n",
    "\n",
    "We can plot something out for 2021 too."
   ]
  },
  {
   "cell_type": "code",
   "execution_count": 69,
   "metadata": {},
   "outputs": [
    {
     "data": {
      "text/html": [
       "<div>\n",
       "<style scoped>\n",
       "    .dataframe tbody tr th:only-of-type {\n",
       "        vertical-align: middle;\n",
       "    }\n",
       "\n",
       "    .dataframe tbody tr th {\n",
       "        vertical-align: top;\n",
       "    }\n",
       "\n",
       "    .dataframe thead th {\n",
       "        text-align: right;\n",
       "    }\n",
       "</style>\n",
       "<table border=\"1\" class=\"dataframe\">\n",
       "  <thead>\n",
       "    <tr style=\"text-align: right;\">\n",
       "      <th></th>\n",
       "      <th>Month</th>\n",
       "      <th>Water Use (gal)</th>\n",
       "    </tr>\n",
       "  </thead>\n",
       "  <tbody>\n",
       "    <tr>\n",
       "      <th>0</th>\n",
       "      <td>1</td>\n",
       "      <td>17619.68137</td>\n",
       "    </tr>\n",
       "    <tr>\n",
       "      <th>1</th>\n",
       "      <td>2</td>\n",
       "      <td>39708.01290</td>\n",
       "    </tr>\n",
       "    <tr>\n",
       "      <th>2</th>\n",
       "      <td>3</td>\n",
       "      <td>44386.10663</td>\n",
       "    </tr>\n",
       "    <tr>\n",
       "      <th>3</th>\n",
       "      <td>4</td>\n",
       "      <td>43010.03623</td>\n",
       "    </tr>\n",
       "    <tr>\n",
       "      <th>4</th>\n",
       "      <td>5</td>\n",
       "      <td>20530.00501</td>\n",
       "    </tr>\n",
       "    <tr>\n",
       "      <th>5</th>\n",
       "      <td>6</td>\n",
       "      <td>1694.01337</td>\n",
       "    </tr>\n",
       "    <tr>\n",
       "      <th>6</th>\n",
       "      <td>7</td>\n",
       "      <td>2642.14267</td>\n",
       "    </tr>\n",
       "    <tr>\n",
       "      <th>7</th>\n",
       "      <td>8</td>\n",
       "      <td>29102.07780</td>\n",
       "    </tr>\n",
       "    <tr>\n",
       "      <th>8</th>\n",
       "      <td>9</td>\n",
       "      <td>24505.47861</td>\n",
       "    </tr>\n",
       "    <tr>\n",
       "      <th>9</th>\n",
       "      <td>10</td>\n",
       "      <td>61465.04869</td>\n",
       "    </tr>\n",
       "    <tr>\n",
       "      <th>10</th>\n",
       "      <td>11</td>\n",
       "      <td>52146.89067</td>\n",
       "    </tr>\n",
       "    <tr>\n",
       "      <th>11</th>\n",
       "      <td>12</td>\n",
       "      <td>52940.60185</td>\n",
       "    </tr>\n",
       "  </tbody>\n",
       "</table>\n",
       "</div>"
      ],
      "text/plain": [
       "    Month  Water Use (gal)\n",
       "0       1      17619.68137\n",
       "1       2      39708.01290\n",
       "2       3      44386.10663\n",
       "3       4      43010.03623\n",
       "4       5      20530.00501\n",
       "5       6       1694.01337\n",
       "6       7       2642.14267\n",
       "7       8      29102.07780\n",
       "8       9      24505.47861\n",
       "9      10      61465.04869\n",
       "10     11      52146.89067\n",
       "11     12      52940.60185"
      ]
     },
     "execution_count": 69,
     "metadata": {},
     "output_type": "execute_result"
    }
   ],
   "source": [
    "df2021 = new_df[new_df['Year'] == 2021]\n",
    "monthly_usage_2021 = []\n",
    "\n",
    "for month in months:\n",
    "    buffer = df2021[df2021['Month'] == month]\n",
    "    total = buffer['Water'].sum(axis = 0)\n",
    "    monthly_usage_2021.append(total)\n",
    "    \n",
    "# monthly_usage\n",
    "record_of_2021 = {\n",
    "    'Month' : months,\n",
    "    'Water Use (gal)' : monthly_usage_2021\n",
    "}\n",
    "\n",
    "df_2021_rec = pd.DataFrame(record_of_2021, columns = ['Month', 'Water Use (gal)'])\n",
    "df_2021_rec"
   ]
  },
  {
   "cell_type": "markdown",
   "metadata": {},
   "source": [
    "From January to May, people were coming back to Oberlin but not all due to the pandemic.\n",
    "\n",
    "Classes actually started in October so everyone was back to campus by then, leading to a rise in the water usage."
   ]
  },
  {
   "cell_type": "code",
   "execution_count": 70,
   "metadata": {},
   "outputs": [
    {
     "data": {
      "image/png": "[encoded data removed]",
      "text/plain": [
       "<Figure size 432x288 with 1 Axes>"
      ]
     },
     "metadata": {
      "needs_background": "light"
     },
     "output_type": "display_data"
    }
   ],
   "source": [
    "df_2021_rec.plot(kind = 'bar', x = 'Month', y = 'Water Use (gal)', color = 'deepskyblue')\n",
    "plt.title('Water Usage of 2021')\n",
    "plt.show()"
   ]
  },
  {
   "cell_type": "markdown",
   "metadata": {},
   "source": [
    "---------------------------\n",
    "#### D. Weekdays and Weekends\n",
    "\n",
    "Now, we can look at the trend for each day in the week.\n",
    "\n",
    "We calculate the average usage of weekdays and weekends and plot them out."
   ]
  },
  {
   "cell_type": "code",
   "execution_count": 71,
   "metadata": {},
   "outputs": [],
   "source": [
    "agg_df = df.groupby(['Day', 'Time']).agg({'Water': 'mean'})"
   ]
  },
  {
   "cell_type": "markdown",
   "metadata": {},
   "source": [
    "**Monday:**"
   ]
  },
  {
   "cell_type": "code",
   "execution_count": 72,
   "metadata": {},
   "outputs": [
    {
     "data": {
      "image/png": "[encoded data removed]",
      "text/plain": [
       "<Figure size 432x288 with 1 Axes>"
      ]
     },
     "metadata": {
      "needs_background": "light"
     },
     "output_type": "display_data"
    }
   ],
   "source": [
    "mon = agg_df.loc['Monday']\n",
    "\n",
    "plt.figure()\n",
    "plt.plot(np.arange(0, 24, 0.25), mon['Water'], color='deepskyblue')\n",
    "plt.title(\"Monday\")\n",
    "plt.xlabel('Time')\n",
    "plt.ylabel('Water use (gal)')\n",
    "plt.show()"
   ]
  },
  {
   "cell_type": "markdown",
   "metadata": {},
   "source": [
    "**Tuesday:**"
   ]
  },
  {
   "cell_type": "code",
   "execution_count": 73,
   "metadata": {},
   "outputs": [
    {
     "data": {
      "image/png": "[encoded data removed]",
      "text/plain": [
       "<Figure size 432x288 with 1 Axes>"
      ]
     },
     "metadata": {
      "needs_background": "light"
     },
     "output_type": "display_data"
    }
   ],
   "source": [
    "tue = agg_df.loc['Tuesday']\n",
    "\n",
    "plt.figure()\n",
    "plt.plot(np.arange(0, 24, 0.25), tue['Water'], color='deepskyblue')\n",
    "plt.title(\"Tuesday\")\n",
    "plt.xlabel('Time')\n",
    "plt.ylabel('Water use (gal)')\n",
    "plt.show()"
   ]
  },
  {
   "cell_type": "markdown",
   "metadata": {},
   "source": [
    "**Wednesday:**"
   ]
  },
  {
   "cell_type": "code",
   "execution_count": 74,
   "metadata": {},
   "outputs": [
    {
     "data": {
      "image/png": "[encoded data removed]",
      "text/plain": [
       "<Figure size 432x288 with 1 Axes>"
      ]
     },
     "metadata": {
      "needs_background": "light"
     },
     "output_type": "display_data"
    }
   ],
   "source": [
    "wed = agg_df.loc['Wednesday']\n",
    "\n",
    "plt.figure()\n",
    "plt.plot(np.arange(0, 24, 0.25), wed['Water'], color='deepskyblue')\n",
    "plt.title(\"Wednesday\")\n",
    "plt.xlabel('Time')\n",
    "plt.ylabel('Water use (gal)')\n",
    "plt.show()"
   ]
  },
  {
   "cell_type": "markdown",
   "metadata": {},
   "source": [
    "**Thursday:**"
   ]
  },
  {
   "cell_type": "code",
   "execution_count": 75,
   "metadata": {},
   "outputs": [
    {
     "data": {
      "image/png": "[encoded data removed]",
      "text/plain": [
       "<Figure size 432x288 with 1 Axes>"
      ]
     },
     "metadata": {
      "needs_background": "light"
     },
     "output_type": "display_data"
    }
   ],
   "source": [
    "thu = agg_df.loc['Thursday']\n",
    "\n",
    "plt.figure()\n",
    "plt.plot(np.arange(0, 24, 0.25), thu['Water'], color='deepskyblue')\n",
    "plt.title(\"Thursday\")\n",
    "plt.xlabel('Time')\n",
    "plt.ylabel('Water use (gal)')\n",
    "plt.show()"
   ]
  },
  {
   "cell_type": "markdown",
   "metadata": {},
   "source": [
    "**Friday:**"
   ]
  },
  {
   "cell_type": "code",
   "execution_count": 76,
   "metadata": {},
   "outputs": [
    {
     "data": {
      "image/png": "[encoded data removed]",
      "text/plain": [
       "<Figure size 432x288 with 1 Axes>"
      ]
     },
     "metadata": {
      "needs_background": "light"
     },
     "output_type": "display_data"
    }
   ],
   "source": [
    "fri = agg_df.loc['Friday']\n",
    "\n",
    "plt.figure()\n",
    "plt.plot(np.arange(0, 24, 0.25), fri['Water'], color='deepskyblue')\n",
    "plt.title(\"Friday\")\n",
    "plt.xlabel('Time')\n",
    "plt.ylabel('Water use (gal)')\n",
    "plt.show()"
   ]
  },
  {
   "cell_type": "markdown",
   "metadata": {},
   "source": [
    "We can see that weekdays follow a similar pattern:\n",
    "\n",
    "- Decreased after 00:00 AM.\n",
    "- Usually peaked at 9:00 AM.\n",
    "- Dropped again at 15:00 PM.\n",
    "\n",
    "However, weekends have a different pattern.\n",
    "\n",
    "**Saturday:**"
   ]
  },
  {
   "cell_type": "code",
   "execution_count": 77,
   "metadata": {},
   "outputs": [
    {
     "data": {
      "image/png": "[encoded data removed]",
      "text/plain": [
       "<Figure size 432x288 with 1 Axes>"
      ]
     },
     "metadata": {
      "needs_background": "light"
     },
     "output_type": "display_data"
    }
   ],
   "source": [
    "sat = agg_df.loc['Saturday']\n",
    "\n",
    "plt.figure()\n",
    "plt.plot(np.arange(0, 24, 0.25), sat['Water'], color='deepskyblue')\n",
    "plt.title(\"Saturday\")\n",
    "plt.xlabel('Time')\n",
    "plt.ylabel('Water use (gal)')\n",
    "plt.show()"
   ]
  },
  {
   "cell_type": "markdown",
   "metadata": {},
   "source": [
    "**Sunday:**"
   ]
  },
  {
   "cell_type": "code",
   "execution_count": 78,
   "metadata": {},
   "outputs": [
    {
     "data": {
      "image/png": "[encoded data removed]",
      "text/plain": [
       "<Figure size 432x288 with 1 Axes>"
      ]
     },
     "metadata": {
      "needs_background": "light"
     },
     "output_type": "display_data"
    }
   ],
   "source": [
    "sun = agg_df.loc['Sunday']\n",
    "\n",
    "plt.figure()\n",
    "plt.plot(np.arange(0, 24, 0.25), sun['Water'], color='deepskyblue')\n",
    "plt.title(\"Sunday\")\n",
    "plt.xlabel('Time')\n",
    "plt.ylabel('Water use (gal)')\n",
    "plt.show()"
   ]
  },
  {
   "attachments": {},
   "cell_type": "markdown",
   "metadata": {},
   "source": [
    "We can see that:\n",
    "\n",
    "- Unlike weekdays, the water usage peaked at around 10:00 to 11:00 AM.\n",
    "- On Sundays, there was a rise at around 23:00 PM compared to Saturday. We believe that it was because people were getting ready for Monday.\n",
    "----------------------"
   ]
  },
  {
   "attachments": {},
   "cell_type": "markdown",
   "metadata": {},
   "source": [
    "### IV. Machine Learning Model\n",
    "\n",
    "#### A. Prepare the dataset\n",
    "\n",
    "We decide to use a machine learning model to predict water usage at each timestamp. Our goal is to select the best time to take a shower on any given day.\n",
    "\n",
    "After exploring the dataset, we choose 3 columns **Month, Day, and Time** as features of our dataset, and the column **Water** as our label.\n",
    "\n",
    "- **Time**: a timestamp ranging from 08:00 to 23:45 (interval of 15 mins). We assume that really late at night and too early in the morning are not a good time to take a shower, so we get rid of timestamps from 00:00 to 07:45\n",
    "- **Month**: a integer ranging from 1 to 12. After seeing differences in the amount of water use each month and how seasons can influence the shower experience (taking a shower when it is cold in the winter is not very pleasant), we believe **Month** would be a good predictor\n",
    "- **Day**: a day of the week (Monday, Tuesday, etc.) We saw that the water trend is different between weekday and weekend, so **Day** is another predictor we choose.\n",
    "- **Water**: Water usage at each timestamp (gal)\n",
    "\n",
    "Note that we also exclude data from 2020 because that was when the pandemic happened and there were significantly less people living on campus\n",
    "\n",
    "We use the data of year 2018, 2019, 2020 as our training set, and data of the year 2022 as our test set"
   ]
  },
  {
   "cell_type": "code",
   "execution_count": 79,
   "metadata": {},
   "outputs": [
    {
     "data": {
      "text/html": [
       "<div>\n",
       "<style scoped>\n",
       "    .dataframe tbody tr th:only-of-type {\n",
       "        vertical-align: middle;\n",
       "    }\n",
       "\n",
       "    .dataframe tbody tr th {\n",
       "        vertical-align: top;\n",
       "    }\n",
       "\n",
       "    .dataframe thead th {\n",
       "        text-align: right;\n",
       "    }\n",
       "</style>\n",
       "<table border=\"1\" class=\"dataframe\">\n",
       "  <thead>\n",
       "    <tr style=\"text-align: right;\">\n",
       "      <th></th>\n",
       "      <th>Month</th>\n",
       "      <th>Day</th>\n",
       "      <th>Time</th>\n",
       "      <th>Water</th>\n",
       "    </tr>\n",
       "  </thead>\n",
       "  <tbody>\n",
       "    <tr>\n",
       "      <th>0</th>\n",
       "      <td>1</td>\n",
       "      <td>Monday</td>\n",
       "      <td>08:00:00</td>\n",
       "      <td>0.00000</td>\n",
       "    </tr>\n",
       "    <tr>\n",
       "      <th>1</th>\n",
       "      <td>1</td>\n",
       "      <td>Monday</td>\n",
       "      <td>08:15:00</td>\n",
       "      <td>0.00000</td>\n",
       "    </tr>\n",
       "    <tr>\n",
       "      <th>2</th>\n",
       "      <td>1</td>\n",
       "      <td>Monday</td>\n",
       "      <td>08:30:00</td>\n",
       "      <td>0.00000</td>\n",
       "    </tr>\n",
       "    <tr>\n",
       "      <th>3</th>\n",
       "      <td>1</td>\n",
       "      <td>Monday</td>\n",
       "      <td>08:45:00</td>\n",
       "      <td>0.00000</td>\n",
       "    </tr>\n",
       "    <tr>\n",
       "      <th>4</th>\n",
       "      <td>1</td>\n",
       "      <td>Monday</td>\n",
       "      <td>09:00:00</td>\n",
       "      <td>0.00000</td>\n",
       "    </tr>\n",
       "    <tr>\n",
       "      <th>...</th>\n",
       "      <td>...</td>\n",
       "      <td>...</td>\n",
       "      <td>...</td>\n",
       "      <td>...</td>\n",
       "    </tr>\n",
       "    <tr>\n",
       "      <th>58063</th>\n",
       "      <td>12</td>\n",
       "      <td>Friday</td>\n",
       "      <td>22:45:00</td>\n",
       "      <td>2.28294</td>\n",
       "    </tr>\n",
       "    <tr>\n",
       "      <th>58064</th>\n",
       "      <td>12</td>\n",
       "      <td>Friday</td>\n",
       "      <td>23:00:00</td>\n",
       "      <td>4.01284</td>\n",
       "    </tr>\n",
       "    <tr>\n",
       "      <th>58065</th>\n",
       "      <td>12</td>\n",
       "      <td>Friday</td>\n",
       "      <td>23:15:00</td>\n",
       "      <td>7.57591</td>\n",
       "    </tr>\n",
       "    <tr>\n",
       "      <th>58066</th>\n",
       "      <td>12</td>\n",
       "      <td>Friday</td>\n",
       "      <td>23:30:00</td>\n",
       "      <td>0.27672</td>\n",
       "    </tr>\n",
       "    <tr>\n",
       "      <th>58067</th>\n",
       "      <td>12</td>\n",
       "      <td>Friday</td>\n",
       "      <td>23:45:00</td>\n",
       "      <td>8.09426</td>\n",
       "    </tr>\n",
       "  </tbody>\n",
       "</table>\n",
       "<p>58068 rows × 4 columns</p>\n",
       "</div>"
      ],
      "text/plain": [
       "       Month     Day      Time    Water\n",
       "0          1  Monday  08:00:00  0.00000\n",
       "1          1  Monday  08:15:00  0.00000\n",
       "2          1  Monday  08:30:00  0.00000\n",
       "3          1  Monday  08:45:00  0.00000\n",
       "4          1  Monday  09:00:00  0.00000\n",
       "...      ...     ...       ...      ...\n",
       "58063     12  Friday  22:45:00  2.28294\n",
       "58064     12  Friday  23:00:00  4.01284\n",
       "58065     12  Friday  23:15:00  7.57591\n",
       "58066     12  Friday  23:30:00  0.27672\n",
       "58067     12  Friday  23:45:00  8.09426\n",
       "\n",
       "[58068 rows x 4 columns]"
      ]
     },
     "execution_count": 79,
     "metadata": {},
     "output_type": "execute_result"
    }
   ],
   "source": [
    "df1 = df\n",
    "df1['Time'] = pd.to_datetime(df1['Time']).dt.time\n",
    "\n",
    "from datetime import time\n",
    "df1 = df1[df1['Time'] >= time(8)]      #Exclude timestamp before 8 am\n",
    "\n",
    "df1 = df1.reset_index(drop=True)\n",
    "\n",
    "\n",
    "#Test set: Year 2022\n",
    "start = df1[df1['Date'] == '2022-01-01'].iloc[0].name\n",
    "end = df1[df1['Date'] == '2022-12-31'].iloc[-1].name\n",
    "df_test = df1.iloc[start: end]\n",
    "df_train = df1.iloc[: start]\n",
    "\n",
    "df_train = df_train[['Month', 'Day', 'Time', 'Water']]\n",
    "\n",
    "df_train      #Final dataset"
   ]
  },
  {
   "attachments": {},
   "cell_type": "markdown",
   "metadata": {},
   "source": [
    "#### B. Training\n",
    "\n",
    "The model we choose is neural network, a machine learning model that resembles the human brain. It make predictions by using a series of layers of neurons to calculate the output. We use the implementation of neural network from the library *scikit-learn* \"MLPRegressor\"\n",
    "\n",
    "Before we train our model, we further split 80% our training set into the actual training set and the remaining 20% as the validation set. \n",
    "\n",
    "We use the validation set to choose the best hyperparamters for the model (in this case, how many layers and how many neuron for each layer). We choose the metric *r2_score* to compare models and found that the best model consists of 1 layer of 10 neurons\n",
    "\n",
    "(In this case, *r2_score* is the percentage of variation in **Water** explained by a combination of **Month**, **Day**, **Time**)\n",
    "\n",
    "The random seed we use is 0"
   ]
  },
  {
   "cell_type": "code",
   "execution_count": 80,
   "metadata": {},
   "outputs": [
    {
     "name": "stderr",
     "output_type": "stream",
     "text": [
      "c:\\Users\\admin\\anaconda3\\lib\\site-packages\\sklearn\\neural_network\\_multilayer_perceptron.py:692: ConvergenceWarning: Stochastic Optimizer: Maximum iterations (200) reached and the optimization hasn't converged yet.\n",
      "  warnings.warn(\n"
     ]
    },
    {
     "data": {
      "text/plain": [
       "0.27827060384035485"
      ]
     },
     "execution_count": 80,
     "metadata": {},
     "output_type": "execute_result"
    }
   ],
   "source": [
    "from sklearn.model_selection import train_test_split\n",
    "from sklearn.preprocessing import OneHotEncoder\n",
    "\n",
    "X = df_train.drop('Water', axis=1)\n",
    "y = df_train['Water']\n",
    "\n",
    "#Split the data into training and validation\n",
    "X_train, X_test, y_train, y_test = train_test_split(X, y, train_size=0.8, random_state=0)\n",
    "transformer = OneHotEncoder()\n",
    "X_train_transformed = transformer.fit_transform(X_train)\n",
    "X_test_transformed = transformer.transform(X_test)\n",
    "\n",
    "#Training the model\n",
    "from sklearn.neural_network import MLPRegressor\n",
    "rgs = MLPRegressor(hidden_layer_sizes=(10,), random_state=0)\n",
    "rgs.fit(X_train_transformed, y_train)\n",
    "\n",
    "#Make prediction\n",
    "y_pred = rgs.predict(X_test_transformed)\n",
    "\n",
    "#r2_score\n",
    "from sklearn.metrics import r2_score\n",
    "r2_score(y_test, y_pred)"
   ]
  },
  {
   "attachments": {},
   "cell_type": "markdown",
   "metadata": {},
   "source": [
    "#### C. Evaluation"
   ]
  },
  {
   "attachments": {},
   "cell_type": "markdown",
   "metadata": {},
   "source": [
    "We calculate the *r2_score* of our model on the test set and get 21.15%"
   ]
  },
  {
   "cell_type": "code",
   "execution_count": 81,
   "metadata": {},
   "outputs": [
    {
     "data": {
      "text/plain": [
       "0.21154994341829814"
      ]
     },
     "execution_count": 81,
     "metadata": {},
     "output_type": "execute_result"
    }
   ],
   "source": [
    "df_test = df_test.reset_index(drop=True)\n",
    "df_test.columns = ['Date', 'Year',\t'Month',\t'Day',\t'Time',\t'Water']\n",
    "df_test = df_test.sample(frac=1, random_state=0)\n",
    "\n",
    "Xt = df_test[['Month', 'Day', 'Time']]\n",
    "yt = df_test ['Water']\n",
    "\n",
    "Xt_transformed = transformer.transform(Xt)\n",
    "yt_pred = rgs.predict(Xt_transformed)\n",
    "\n",
    "r2_score(yt, yt_pred)\n"
   ]
  },
  {
   "attachments": {},
   "cell_type": "markdown",
   "metadata": {},
   "source": [
    "We also want to visualize how close we get to the actual value by comparing the frequency of the real best time to take a shower and our predicted best time. For each day in 2022, we get 10 timestamps that have the lowest water use in the original dataset and in our predicted values and count frequency of each timestamp. The result is two histograms.\n",
    "\n",
    "This is the histogram for the actual data"
   ]
  },
  {
   "cell_type": "code",
   "execution_count": 82,
   "metadata": {},
   "outputs": [
    {
     "data": {
      "image/png": "[encoded data removed]",
      "text/plain": [
       "<Figure size 432x288 with 1 Axes>"
      ]
     },
     "metadata": {
      "needs_background": "light"
     },
     "output_type": "display_data"
    }
   ],
   "source": [
    "best_time_true = df_test.groupby('Date').apply(lambda d: d.iloc[d['Water'].argsort()[:10]]['Time']) \n",
    "\n",
    "plt.figure()\n",
    "best_time_true_hour = best_time_true.apply(lambda x: x.hour)\n",
    "plt.hist(best_time_true_hour)\n",
    "plt.xlabel('Time')\n",
    "plt.ylabel('Frequency')\n",
    "plt.title('Real best shower time in 2022')\n",
    "plt.xlim(8, 24)\n",
    "plt.show()"
   ]
  },
  {
   "attachments": {},
   "cell_type": "markdown",
   "metadata": {},
   "source": [
    "This is the histogram for our model prediction"
   ]
  },
  {
   "cell_type": "code",
   "execution_count": 83,
   "metadata": {},
   "outputs": [
    {
     "name": "stderr",
     "output_type": "stream",
     "text": [
      "C:\\Users\\admin\\AppData\\Local\\Temp\\ipykernel_25552\\473662446.py:1: SettingWithCopyWarning: \n",
      "A value is trying to be set on a copy of a slice from a DataFrame.\n",
      "Try using .loc[row_indexer,col_indexer] = value instead\n",
      "\n",
      "See the caveats in the documentation: https://pandas.pydata.org/pandas-docs/stable/user_guide/indexing.html#returning-a-view-versus-a-copy\n",
      "  Xt['Water'] = yt_pred\n",
      "C:\\Users\\admin\\AppData\\Local\\Temp\\ipykernel_25552\\473662446.py:2: SettingWithCopyWarning: \n",
      "A value is trying to be set on a copy of a slice from a DataFrame.\n",
      "Try using .loc[row_indexer,col_indexer] = value instead\n",
      "\n",
      "See the caveats in the documentation: https://pandas.pydata.org/pandas-docs/stable/user_guide/indexing.html#returning-a-view-versus-a-copy\n",
      "  Xt['Date'] = df_test['Date']\n"
     ]
    },
    {
     "data": {
      "image/png": "[encoded data removed]",
      "text/plain": [
       "<Figure size 432x288 with 1 Axes>"
      ]
     },
     "metadata": {
      "needs_background": "light"
     },
     "output_type": "display_data"
    }
   ],
   "source": [
    "Xt['Water'] = yt_pred\n",
    "Xt['Date'] = df_test['Date']\n",
    "best_time_pred = Xt.groupby('Date').apply(lambda d: d.iloc[d['Water'].argsort()[:10]]['Time']) \n",
    "plt.figure()\n",
    "best_time_pred_hour = best_time_pred.apply(lambda x: x.hour)\n",
    "plt.hist(best_time_pred_hour)\n",
    "plt.xlabel('Time')\n",
    "plt.ylabel('Frequency')\n",
    "plt.title('Predicted best shower time in 2022')\n",
    "plt.xlim(8, 24)\n",
    "plt.show()"
   ]
  },
  {
   "attachments": {},
   "cell_type": "markdown",
   "metadata": {},
   "source": [
    "Our model is able to identify three peaks in the actual histogram at around 8 am, 3pm, and 5pm. It is also noticeable that it tend to make predictions toward the highest peak in the actual data (at around 3pm)"
   ]
  },
  {
   "attachments": {},
   "cell_type": "markdown",
   "metadata": {},
   "source": [
    "#### D. An implementation\n",
    "\n",
    "Though our model did not make perfect predictions, we try to make a small program to predict what three best shower times in an given day are"
   ]
  },
  {
   "cell_type": "code",
   "execution_count": 84,
   "metadata": {},
   "outputs": [],
   "source": [
    "from datetime import datetime\n",
    "from datetime import timedelta\n",
    "def get_3best_time(month=datetime.now().month, day=datetime.now().day, earliest='08:00', latest='23:45', trained_model=rgs):\n",
    "    earliest = datetime.strptime(earliest, '%H:%M')\n",
    "    latest = datetime.strptime(latest, '%H:%M')\n",
    "\n",
    "    time_array = []\n",
    "    while True:\n",
    "        time_array.append(earliest.time())\n",
    "        if earliest == latest:\n",
    "            break\n",
    "        earliest += timedelta(minutes=15)\n",
    "        \n",
    "    cur_X = pd.DataFrame({'Month': month, 'Day': datetime(datetime.now().year, month, day).strftime('%A'), 'Time': time_array})\n",
    "    cur_X_transformed = transformer.transform(cur_X)\n",
    "    y = trained_model.predict(cur_X_transformed)\n",
    "    cur_X['Water'] = trained_model.predict(cur_X_transformed)\n",
    "    top_3 = cur_X.iloc[cur_X['Water'].argsort()[:3]]\n",
    "    return top_3[['Time', 'Water']].reset_index(drop=True)"
   ]
  },
  {
   "attachments": {},
   "cell_type": "markdown",
   "metadata": {},
   "source": [
    "Change the variables in the cell below then run it (*start_time* and *end_time* are the start and end of the time window you are willing the take a shower)"
   ]
  },
  {
   "cell_type": "code",
   "execution_count": 85,
   "metadata": {},
   "outputs": [
    {
     "data": {
      "text/html": [
       "<div>\n",
       "<style scoped>\n",
       "    .dataframe tbody tr th:only-of-type {\n",
       "        vertical-align: middle;\n",
       "    }\n",
       "\n",
       "    .dataframe tbody tr th {\n",
       "        vertical-align: top;\n",
       "    }\n",
       "\n",
       "    .dataframe thead th {\n",
       "        text-align: right;\n",
       "    }\n",
       "</style>\n",
       "<table border=\"1\" class=\"dataframe\">\n",
       "  <thead>\n",
       "    <tr style=\"text-align: right;\">\n",
       "      <th></th>\n",
       "      <th>Time</th>\n",
       "      <th>Water</th>\n",
       "    </tr>\n",
       "  </thead>\n",
       "  <tbody>\n",
       "    <tr>\n",
       "      <th>0</th>\n",
       "      <td>15:45:00</td>\n",
       "      <td>5.634753</td>\n",
       "    </tr>\n",
       "    <tr>\n",
       "      <th>1</th>\n",
       "      <td>15:15:00</td>\n",
       "      <td>5.731147</td>\n",
       "    </tr>\n",
       "    <tr>\n",
       "      <th>2</th>\n",
       "      <td>15:30:00</td>\n",
       "      <td>5.838775</td>\n",
       "    </tr>\n",
       "  </tbody>\n",
       "</table>\n",
       "</div>"
      ],
      "text/plain": [
       "       Time     Water\n",
       "0  15:45:00  5.634753\n",
       "1  15:15:00  5.731147\n",
       "2  15:30:00  5.838775"
      ]
     },
     "execution_count": 85,
     "metadata": {},
     "output_type": "execute_result"
    }
   ],
   "source": [
    "month = 1               # int: from 1 to 12\n",
    "day = 25                # int: from 1 to 31 \n",
    "start_time = '08:00'    # str: in the form 'hh:mm'\n",
    "end_time = '23:45'      # str: in the form 'hh:mm'\n",
    "\n",
    "get_3best_time(month, day, start_time, end_time) "
   ]
  },
  {
   "attachments": {},
   "cell_type": "markdown",
   "metadata": {},
   "source": [
    "---------------\n",
    "### V. Conclusion\n",
    "\n",
    "#### A. Achievement\n",
    "\n",
    "Over the course of 2 weeks, these are our achievements:\n",
    "\n",
    "- We gained some first-hand experience as data scientists. We learned a lot about the obstacles data scientists face when collecting data and analyzing data.\n",
    "\n",
    "- We have successfully examined a large dataset. Not only did we explore but we also were able to predict the trend of the water usage at a certain precision.\n",
    "\n",
    "- We also learned to present our data analysis in a way that, to us, is clear and easy to follow.\n",
    "\n",
    "\n",
    "#### B. Discussion\n",
    "\n",
    "This is our first time ever having access to a large dataset like this. However, these are things that we need to improve:\n",
    "\n",
    "- **Efficiency:** This is not only about coding efficiency but also about the way we retrieve our needed data. We did not have total control over our data. Instead, we were only able to request what kind of data that we need and it usually took us a few days before we could get our hands on those data. So one thing we can take away from this project is that we must be more proactive.\n",
    "\n",
    "- **Coordination:** We also had some trouble when trying to merge each others works together as Github and Jupyter Notebook did not work together very well. Luckily, we found a tool called 'nbdime' that handle the merging beautifully.\n",
    "\n",
    "- **Quality:** We didn't exclude data during unusual time like breaks and we made a lot of assumtions about water usage so our model may be prone to bias. If we have more time, we would further refine our model."
   ]
  },
  {
   "cell_type": "code",
   "execution_count": null,
   "metadata": {},
   "outputs": [],
   "source": []
  }
 ],
 "metadata": {
  "kernelspec": {
   "display_name": "Python 3 (ipykernel)",
   "language": "python",
   "name": "python3"
  },
  "language_info": {
   "codemirror_mode": {
    "name": "ipython",
    "version": 3
   },
   "file_extension": ".py",
   "mimetype": "text/x-python",
   "name": "python",
   "nbconvert_exporter": "python",
   "pygments_lexer": "ipython3",
   "version": "3.9.12"
  },
  "nbdime-conflicts": {
   "local_diff": [
    {
     "diff": [
      {
       "diff": [
        {
         "key": 0,
         "op": "addrange",
         "valuelist": [
          "3.9.12 (main, Apr  4 2022, 05:22:27) [MSC v.1916 64 bit (AMD64)]"
         ]
        },
        {
         "key": 0,
         "length": 1,
         "op": "removerange"
        }
       ],
       "key": "version",
       "op": "patch"
      }
     ],
     "key": "language_info",
     "op": "patch"
    }
   ],
   "remote_diff": [
    {
     "diff": [
      {
       "diff": [
        {
         "key": 0,
         "op": "addrange",
         "valuelist": [
          "3.10.0"
         ]
        },
        {
         "key": 0,
         "length": 1,
         "op": "removerange"
        }
       ],
       "key": "version",
       "op": "patch"
      }
     ],
     "key": "language_info",
     "op": "patch"
    }
   ]
  },
  "vscode": {
   "interpreter": {
    "hash": "610a6f344c2137faf927ea819c63f6cee33a2c04455044b28099f39fe9722347"
   }
  }
 },
 "nbformat": 4,
 "nbformat_minor": 2
}
