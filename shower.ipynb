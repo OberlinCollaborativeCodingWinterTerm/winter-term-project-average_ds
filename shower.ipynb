{
 "cells": [
  {
   "cell_type": "code",
   "execution_count": 76,
   "metadata": {},
   "outputs": [],
   "source": [
    "import pandas as pd\n",
    "import numpy as np"
   ]
  },
  {
   "cell_type": "code",
   "execution_count": 77,
   "metadata": {},
   "outputs": [
    {
     "data": {
      "text/html": [
       "<div>\n",
       "<style scoped>\n",
       "    .dataframe tbody tr th:only-of-type {\n",
       "        vertical-align: middle;\n",
       "    }\n",
       "\n",
       "    .dataframe tbody tr th {\n",
       "        vertical-align: top;\n",
       "    }\n",
       "\n",
       "    .dataframe thead th {\n",
       "        text-align: right;\n",
       "    }\n",
       "</style>\n",
       "<table border=\"1\" class=\"dataframe\">\n",
       "  <thead>\n",
       "    <tr style=\"text-align: right;\">\n",
       "      <th></th>\n",
       "      <th>Month</th>\n",
       "      <th>Day</th>\n",
       "      <th>Time</th>\n",
       "      <th>Water</th>\n",
       "    </tr>\n",
       "  </thead>\n",
       "  <tbody>\n",
       "    <tr>\n",
       "      <th>0</th>\n",
       "      <td>1</td>\n",
       "      <td>Monday</td>\n",
       "      <td>08:00:00</td>\n",
       "      <td>0.00000</td>\n",
       "    </tr>\n",
       "    <tr>\n",
       "      <th>1</th>\n",
       "      <td>1</td>\n",
       "      <td>Monday</td>\n",
       "      <td>08:15:00</td>\n",
       "      <td>0.00000</td>\n",
       "    </tr>\n",
       "    <tr>\n",
       "      <th>2</th>\n",
       "      <td>1</td>\n",
       "      <td>Monday</td>\n",
       "      <td>08:30:00</td>\n",
       "      <td>0.00000</td>\n",
       "    </tr>\n",
       "    <tr>\n",
       "      <th>3</th>\n",
       "      <td>1</td>\n",
       "      <td>Monday</td>\n",
       "      <td>08:45:00</td>\n",
       "      <td>0.00000</td>\n",
       "    </tr>\n",
       "    <tr>\n",
       "      <th>4</th>\n",
       "      <td>1</td>\n",
       "      <td>Monday</td>\n",
       "      <td>09:00:00</td>\n",
       "      <td>0.00000</td>\n",
       "    </tr>\n",
       "    <tr>\n",
       "      <th>...</th>\n",
       "      <td>...</td>\n",
       "      <td>...</td>\n",
       "      <td>...</td>\n",
       "      <td>...</td>\n",
       "    </tr>\n",
       "    <tr>\n",
       "      <th>58063</th>\n",
       "      <td>12</td>\n",
       "      <td>Friday</td>\n",
       "      <td>22:45:00</td>\n",
       "      <td>2.28294</td>\n",
       "    </tr>\n",
       "    <tr>\n",
       "      <th>58064</th>\n",
       "      <td>12</td>\n",
       "      <td>Friday</td>\n",
       "      <td>23:00:00</td>\n",
       "      <td>4.01284</td>\n",
       "    </tr>\n",
       "    <tr>\n",
       "      <th>58065</th>\n",
       "      <td>12</td>\n",
       "      <td>Friday</td>\n",
       "      <td>23:15:00</td>\n",
       "      <td>7.57591</td>\n",
       "    </tr>\n",
       "    <tr>\n",
       "      <th>58066</th>\n",
       "      <td>12</td>\n",
       "      <td>Friday</td>\n",
       "      <td>23:30:00</td>\n",
       "      <td>0.27672</td>\n",
       "    </tr>\n",
       "    <tr>\n",
       "      <th>58067</th>\n",
       "      <td>12</td>\n",
       "      <td>Friday</td>\n",
       "      <td>23:45:00</td>\n",
       "      <td>8.09426</td>\n",
       "    </tr>\n",
       "  </tbody>\n",
       "</table>\n",
       "<p>58068 rows × 4 columns</p>\n",
       "</div>"
      ],
      "text/plain": [
       "       Month     Day      Time    Water\n",
       "0          1  Monday  08:00:00  0.00000\n",
       "1          1  Monday  08:15:00  0.00000\n",
       "2          1  Monday  08:30:00  0.00000\n",
       "3          1  Monday  08:45:00  0.00000\n",
       "4          1  Monday  09:00:00  0.00000\n",
       "...      ...     ...       ...      ...\n",
       "58063     12  Friday  22:45:00  2.28294\n",
       "58064     12  Friday  23:00:00  4.01284\n",
       "58065     12  Friday  23:15:00  7.57591\n",
       "58066     12  Friday  23:30:00  0.27672\n",
       "58067     12  Friday  23:45:00  8.09426\n",
       "\n",
       "[58068 rows x 4 columns]"
      ]
     },
     "execution_count": 77,
     "metadata": {},
     "output_type": "execute_result"
    }
   ],
   "source": [
    "df0 = pd.read_csv(\"Noah_5Years_000.csv\", skiprows=4)\n",
    "df1 = pd.read_csv(\"Noah_5Years_002.csv\", skiprows=4)\n",
    "df2 = pd.read_csv(\"Noah_5Years_003.csv\", skiprows=4)\n",
    "\n",
    "df = pd.concat([df0, df1, df2])\n",
    "df = df[['Timestamp', 'Noah - Water Use (gal)']]\n",
    "df[['Date', 'Time']] = df['Timestamp'].str.split(' ', expand = True)\n",
    "df['Date'] = pd.to_datetime(df['Date'])\n",
    "df['Year'] = df['Date'].dt.year\n",
    "df['Month'] = df['Date'].dt.month\n",
    "df['Day'] = df['Date'].dt.day_name()\n",
    "df = df[['Date', 'Year', 'Month', 'Day', 'Time', 'Noah - Water Use (gal)']]\n",
    "df.columns = ['Date', 'Year', 'Month', 'Day', 'Time', 'Water']\n",
    "\n",
    "df.dropna(inplace=True)\n",
    "\n",
    "df['Time'] = pd.to_datetime(df['Time']).dt.time\n",
    "\n",
    "from datetime import time\n",
    "df = df[df['Time'] >= time(8)]      #Exclude timestamp before 8 am\n",
    "\n",
    "df = df.reset_index(drop=True)\n",
    "\n",
    "\n",
    "#Test set: Year 2022\n",
    "start = df[df['Date'] == '2022-01-01'].iloc[0].name\n",
    "end = df[df['Date'] == '2022-12-31'].iloc[-1].name\n",
    "df_test = df.iloc[start: end]\n",
    "df_train = df.iloc[: start]\n",
    "\n",
    "df_train = df_train[['Month', 'Day', 'Time', 'Water']]\n",
    "\n",
    "df_train      #Final dataset"
   ]
  },
  {
   "cell_type": "code",
   "execution_count": 78,
   "metadata": {},
   "outputs": [],
   "source": [
    "from sklearn.neural_network import MLPRegressor\n",
    "from sklearn.model_selection import train_test_split\n",
    "from sklearn.preprocessing import OneHotEncoder\n",
    "\n",
    "X = df_train.drop('Water', axis=1)\n",
    "y = df_train['Water']\n",
    "\n",
    "X_train, X_test, y_train, y_test = train_test_split(X, y, random_state=0)\n",
    "transformer = OneHotEncoder()\n",
    "X_train_transformed = transformer.fit_transform(X_train)\n",
    "X_test_transformed = transformer.transform(X_test)"
   ]
  },
  {
   "cell_type": "code",
   "execution_count": 79,
   "metadata": {},
   "outputs": [
    {
     "name": "stderr",
     "output_type": "stream",
     "text": [
      "c:\\Users\\admin\\anaconda3\\lib\\site-packages\\sklearn\\neural_network\\_multilayer_perceptron.py:692: ConvergenceWarning: Stochastic Optimizer: Maximum iterations (200) reached and the optimization hasn't converged yet.\n",
      "  warnings.warn(\n"
     ]
    }
   ],
   "source": [
    "rgs = MLPRegressor(hidden_layer_sizes=(10,))\n",
    "rgs.fit(X_train_transformed, y_train)\n",
    "y_pred = rgs.predict(X_test_transformed)"
   ]
  },
  {
   "cell_type": "code",
   "execution_count": 80,
   "metadata": {},
   "outputs": [
    {
     "data": {
      "text/plain": [
       "0.2779718172694329"
      ]
     },
     "execution_count": 80,
     "metadata": {},
     "output_type": "execute_result"
    }
   ],
   "source": [
    "from sklearn.metrics import r2_score\n",
    "r2_score(y_test, y_pred)"
   ]
  },
  {
   "cell_type": "code",
   "execution_count": 81,
   "metadata": {},
   "outputs": [
    {
     "data": {
      "text/html": [
       "<div>\n",
       "<style scoped>\n",
       "    .dataframe tbody tr th:only-of-type {\n",
       "        vertical-align: middle;\n",
       "    }\n",
       "\n",
       "    .dataframe tbody tr th {\n",
       "        vertical-align: top;\n",
       "    }\n",
       "\n",
       "    .dataframe thead th {\n",
       "        text-align: right;\n",
       "    }\n",
       "</style>\n",
       "<table border=\"1\" class=\"dataframe\">\n",
       "  <thead>\n",
       "    <tr style=\"text-align: right;\">\n",
       "      <th></th>\n",
       "      <th>Date</th>\n",
       "      <th>Year</th>\n",
       "      <th>Month</th>\n",
       "      <th>Day</th>\n",
       "      <th>Time</th>\n",
       "      <th>Water</th>\n",
       "    </tr>\n",
       "  </thead>\n",
       "  <tbody>\n",
       "    <tr>\n",
       "      <th>0</th>\n",
       "      <td>2022-01-01</td>\n",
       "      <td>2022</td>\n",
       "      <td>1</td>\n",
       "      <td>Saturday</td>\n",
       "      <td>08:00:00</td>\n",
       "      <td>1.59134</td>\n",
       "    </tr>\n",
       "    <tr>\n",
       "      <th>1</th>\n",
       "      <td>2022-01-01</td>\n",
       "      <td>2022</td>\n",
       "      <td>1</td>\n",
       "      <td>Saturday</td>\n",
       "      <td>08:15:00</td>\n",
       "      <td>0.24213</td>\n",
       "    </tr>\n",
       "    <tr>\n",
       "      <th>2</th>\n",
       "      <td>2022-01-01</td>\n",
       "      <td>2022</td>\n",
       "      <td>1</td>\n",
       "      <td>Saturday</td>\n",
       "      <td>08:30:00</td>\n",
       "      <td>0.65721</td>\n",
       "    </tr>\n",
       "    <tr>\n",
       "      <th>3</th>\n",
       "      <td>2022-01-01</td>\n",
       "      <td>2022</td>\n",
       "      <td>1</td>\n",
       "      <td>Saturday</td>\n",
       "      <td>08:45:00</td>\n",
       "      <td>0.17295</td>\n",
       "    </tr>\n",
       "    <tr>\n",
       "      <th>4</th>\n",
       "      <td>2022-01-01</td>\n",
       "      <td>2022</td>\n",
       "      <td>1</td>\n",
       "      <td>Saturday</td>\n",
       "      <td>09:00:00</td>\n",
       "      <td>0.20754</td>\n",
       "    </tr>\n",
       "    <tr>\n",
       "      <th>...</th>\n",
       "      <td>...</td>\n",
       "      <td>...</td>\n",
       "      <td>...</td>\n",
       "      <td>...</td>\n",
       "      <td>...</td>\n",
       "      <td>...</td>\n",
       "    </tr>\n",
       "    <tr>\n",
       "      <th>23316</th>\n",
       "      <td>2022-12-31</td>\n",
       "      <td>2022</td>\n",
       "      <td>12</td>\n",
       "      <td>Saturday</td>\n",
       "      <td>22:30:00</td>\n",
       "      <td>1.34901</td>\n",
       "    </tr>\n",
       "    <tr>\n",
       "      <th>23317</th>\n",
       "      <td>2022-12-31</td>\n",
       "      <td>2022</td>\n",
       "      <td>12</td>\n",
       "      <td>Saturday</td>\n",
       "      <td>22:45:00</td>\n",
       "      <td>0.86475</td>\n",
       "    </tr>\n",
       "    <tr>\n",
       "      <th>23318</th>\n",
       "      <td>2022-12-31</td>\n",
       "      <td>2022</td>\n",
       "      <td>12</td>\n",
       "      <td>Saturday</td>\n",
       "      <td>23:00:00</td>\n",
       "      <td>3.35533</td>\n",
       "    </tr>\n",
       "    <tr>\n",
       "      <th>23319</th>\n",
       "      <td>2022-12-31</td>\n",
       "      <td>2022</td>\n",
       "      <td>12</td>\n",
       "      <td>Saturday</td>\n",
       "      <td>23:15:00</td>\n",
       "      <td>2.83638</td>\n",
       "    </tr>\n",
       "    <tr>\n",
       "      <th>23320</th>\n",
       "      <td>2022-12-31</td>\n",
       "      <td>2022</td>\n",
       "      <td>12</td>\n",
       "      <td>Saturday</td>\n",
       "      <td>23:30:00</td>\n",
       "      <td>0.89934</td>\n",
       "    </tr>\n",
       "  </tbody>\n",
       "</table>\n",
       "<p>23321 rows × 6 columns</p>\n",
       "</div>"
      ],
      "text/plain": [
       "            Date  Year  Month       Day      Time    Water\n",
       "0     2022-01-01  2022      1  Saturday  08:00:00  1.59134\n",
       "1     2022-01-01  2022      1  Saturday  08:15:00  0.24213\n",
       "2     2022-01-01  2022      1  Saturday  08:30:00  0.65721\n",
       "3     2022-01-01  2022      1  Saturday  08:45:00  0.17295\n",
       "4     2022-01-01  2022      1  Saturday  09:00:00  0.20754\n",
       "...          ...   ...    ...       ...       ...      ...\n",
       "23316 2022-12-31  2022     12  Saturday  22:30:00  1.34901\n",
       "23317 2022-12-31  2022     12  Saturday  22:45:00  0.86475\n",
       "23318 2022-12-31  2022     12  Saturday  23:00:00  3.35533\n",
       "23319 2022-12-31  2022     12  Saturday  23:15:00  2.83638\n",
       "23320 2022-12-31  2022     12  Saturday  23:30:00  0.89934\n",
       "\n",
       "[23321 rows x 6 columns]"
      ]
     },
     "execution_count": 81,
     "metadata": {},
     "output_type": "execute_result"
    }
   ],
   "source": [
    "df_test = df_test.reset_index(drop=True)\n",
    "df_test.columns = ['Date', 'Year',\t'Month',\t'Day',\t'Time',\t'Water']\n",
    "df_test"
   ]
  },
  {
   "cell_type": "code",
   "execution_count": 82,
   "metadata": {},
   "outputs": [
    {
     "data": {
      "text/plain": [
       "Date             \n",
       "2022-01-01  31       15:45:00\n",
       "            3        08:45:00\n",
       "            20       13:00:00\n",
       "            4        09:00:00\n",
       "            23       13:45:00\n",
       "                       ...   \n",
       "2022-12-31  23314    22:00:00\n",
       "            23320    23:30:00\n",
       "            23304    19:30:00\n",
       "            23309    20:45:00\n",
       "            23311    21:15:00\n",
       "Name: Time, Length: 3650, dtype: object"
      ]
     },
     "execution_count": 82,
     "metadata": {},
     "output_type": "execute_result"
    }
   ],
   "source": [
    "b = df_test.groupby('Date').apply(lambda d: d.iloc[d['Water'].argsort()[:10]]['Time']) \n",
    "b"
   ]
  },
  {
   "cell_type": "code",
   "execution_count": 83,
   "metadata": {},
   "outputs": [
    {
     "data": {
      "image/png": "[encoded data removed]",
      "text/plain": [
       "<Figure size 432x288 with 1 Axes>"
      ]
     },
     "metadata": {
      "needs_background": "light"
     },
     "output_type": "display_data"
    }
   ],
   "source": [
    "import matplotlib.pyplot as plt\n",
    "plt.figure()\n",
    "c = b.apply(lambda x: x.hour)\n",
    "plt.hist(c)\n",
    "plt.show()"
   ]
  },
  {
   "cell_type": "code",
   "execution_count": 84,
   "metadata": {},
   "outputs": [
    {
     "name": "stderr",
     "output_type": "stream",
     "text": [
      "C:\\Users\\admin\\AppData\\Local\\Temp\\ipykernel_4076\\1073370504.py:3: SettingWithCopyWarning: \n",
      "A value is trying to be set on a copy of a slice from a DataFrame.\n",
      "Try using .loc[row_indexer,col_indexer] = value instead\n",
      "\n",
      "See the caveats in the documentation: https://pandas.pydata.org/pandas-docs/stable/user_guide/indexing.html#returning-a-view-versus-a-copy\n",
      "  X_test1['Water'] = rgs.predict(X_test1_tranformed)\n",
      "C:\\Users\\admin\\AppData\\Local\\Temp\\ipykernel_4076\\1073370504.py:4: SettingWithCopyWarning: \n",
      "A value is trying to be set on a copy of a slice from a DataFrame.\n",
      "Try using .loc[row_indexer,col_indexer] = value instead\n",
      "\n",
      "See the caveats in the documentation: https://pandas.pydata.org/pandas-docs/stable/user_guide/indexing.html#returning-a-view-versus-a-copy\n",
      "  X_test1['Date'] = df_test['Date']\n"
     ]
    },
    {
     "name": "stdout",
     "output_type": "stream",
     "text": [
      "Date           \n",
      "2022-01-01  0      08:00:00\n",
      "            1      08:15:00\n",
      "            43     18:45:00\n",
      "            2      08:30:00\n",
      "            29     15:15:00\n",
      "            3      08:45:00\n",
      "            42     18:30:00\n",
      "            4      09:00:00\n",
      "            34     16:30:00\n",
      "            39     17:45:00\n",
      "2022-01-02  64     08:00:00\n",
      "            65     08:15:00\n",
      "            93     15:15:00\n",
      "            107    18:45:00\n",
      "            66     08:30:00\n",
      "            67     08:45:00\n",
      "            106    18:30:00\n",
      "            68     09:00:00\n",
      "            98     16:30:00\n",
      "            103    17:45:00\n",
      "Name: Time, dtype: object\n"
     ]
    }
   ],
   "source": [
    "X_test1 = df_test[['Month', 'Day', 'Time']]\n",
    "X_test1_tranformed = OneHotEncoder().fit_transform(X_test1)\n",
    "X_test1['Water'] = rgs.predict(X_test1_tranformed)\n",
    "X_test1['Date'] = df_test['Date']\n",
    "a = X_test1.groupby('Date').apply(lambda d: d.iloc[d['Water'].argsort()[:10]]['Time']) \n",
    "print(a.head(20))"
   ]
  },
  {
   "cell_type": "code",
   "execution_count": 85,
   "metadata": {},
   "outputs": [
    {
     "data": {
      "image/png": "[encoded data removed]",
      "text/plain": [
       "<Figure size 432x288 with 1 Axes>"
      ]
     },
     "metadata": {
      "needs_background": "light"
     },
     "output_type": "display_data"
    }
   ],
   "source": [
    "plt.figure()\n",
    "c = a.apply(lambda x: x.hour)\n",
    "plt.hist(c)\n",
    "plt.show()"
   ]
  },
  {
   "cell_type": "code",
   "execution_count": 86,
   "metadata": {},
   "outputs": [
    {
     "data": {
      "text/html": [
       "<div>\n",
       "<style scoped>\n",
       "    .dataframe tbody tr th:only-of-type {\n",
       "        vertical-align: middle;\n",
       "    }\n",
       "\n",
       "    .dataframe tbody tr th {\n",
       "        vertical-align: top;\n",
       "    }\n",
       "\n",
       "    .dataframe thead th {\n",
       "        text-align: right;\n",
       "    }\n",
       "</style>\n",
       "<table border=\"1\" class=\"dataframe\">\n",
       "  <thead>\n",
       "    <tr style=\"text-align: right;\">\n",
       "      <th></th>\n",
       "      <th>Time</th>\n",
       "      <th>Water</th>\n",
       "    </tr>\n",
       "  </thead>\n",
       "  <tbody>\n",
       "    <tr>\n",
       "      <th>0</th>\n",
       "      <td>15:15:00</td>\n",
       "      <td>4.253395</td>\n",
       "    </tr>\n",
       "    <tr>\n",
       "      <th>1</th>\n",
       "      <td>15:45:00</td>\n",
       "      <td>5.371525</td>\n",
       "    </tr>\n",
       "    <tr>\n",
       "      <th>2</th>\n",
       "      <td>14:00:00</td>\n",
       "      <td>5.475105</td>\n",
       "    </tr>\n",
       "  </tbody>\n",
       "</table>\n",
       "</div>"
      ],
      "text/plain": [
       "       Time     Water\n",
       "0  15:15:00  4.253395\n",
       "1  15:45:00  5.371525\n",
       "2  14:00:00  5.475105"
      ]
     },
     "execution_count": 86,
     "metadata": {},
     "output_type": "execute_result"
    }
   ],
   "source": [
    "from datetime import datetime\n",
    "from datetime import timedelta\n",
    "def get_3best_time(month=datetime.now().month, day=datetime.now().day, earliest='08:00', latest='23:45', trained_model=rgs):\n",
    "    earliest = datetime.strptime(earliest, '%H:%M')\n",
    "    latest = datetime.strptime(latest, '%H:%M')\n",
    "\n",
    "    time_array = []\n",
    "    while True:\n",
    "        time_array.append(earliest.time())\n",
    "        if earliest == latest:\n",
    "            break\n",
    "        earliest += timedelta(minutes=15)\n",
    "        \n",
    "    cur_X = pd.DataFrame({'Month': month, 'Day': datetime(datetime.now().year, month, day).strftime('%A'), 'Time': time_array})\n",
    "    cur_X_transformed = transformer.transform(cur_X)\n",
    "    y = trained_model.predict(cur_X_transformed)\n",
    "    cur_X['Water'] = trained_model.predict(cur_X_transformed)\n",
    "    top_3 = cur_X.iloc[cur_X['Water'].argsort()[:3]]\n",
    "    return top_3[['Time', 'Water']].reset_index(drop=True)\n",
    "get_3best_time()    "
   ]
  },
  {
   "cell_type": "code",
   "execution_count": 87,
   "metadata": {},
   "outputs": [
    {
     "data": {
      "text/html": [
       "<div>\n",
       "<style scoped>\n",
       "    .dataframe tbody tr th:only-of-type {\n",
       "        vertical-align: middle;\n",
       "    }\n",
       "\n",
       "    .dataframe tbody tr th {\n",
       "        vertical-align: top;\n",
       "    }\n",
       "\n",
       "    .dataframe thead th {\n",
       "        text-align: right;\n",
       "    }\n",
       "</style>\n",
       "<table border=\"1\" class=\"dataframe\">\n",
       "  <thead>\n",
       "    <tr style=\"text-align: right;\">\n",
       "      <th></th>\n",
       "      <th>Time</th>\n",
       "      <th>Water</th>\n",
       "    </tr>\n",
       "  </thead>\n",
       "  <tbody>\n",
       "    <tr>\n",
       "      <th>0</th>\n",
       "      <td>19:00:00</td>\n",
       "      <td>7.543959</td>\n",
       "    </tr>\n",
       "    <tr>\n",
       "      <th>1</th>\n",
       "      <td>19:15:00</td>\n",
       "      <td>7.953234</td>\n",
       "    </tr>\n",
       "    <tr>\n",
       "      <th>2</th>\n",
       "      <td>19:30:00</td>\n",
       "      <td>8.024566</td>\n",
       "    </tr>\n",
       "  </tbody>\n",
       "</table>\n",
       "</div>"
      ],
      "text/plain": [
       "       Time     Water\n",
       "0  19:00:00  7.543959\n",
       "1  19:15:00  7.953234\n",
       "2  19:30:00  8.024566"
      ]
     },
     "execution_count": 87,
     "metadata": {},
     "output_type": "execute_result"
    }
   ],
   "source": [
    "month = 1\n",
    "day = 24\n",
    "get_3best_time(1, 24, '19:00', '22:00') "
   ]
  },
  {
   "cell_type": "code",
   "execution_count": 99,
   "metadata": {},
   "outputs": [],
   "source": [
    "agg_df = df.groupby(['Day', 'Time']).agg({'Water': 'mean'})"
   ]
  },
  {
   "cell_type": "code",
   "execution_count": 131,
   "metadata": {},
   "outputs": [
    {
     "data": {
      "image/png": "[encoded data removed]",
      "text/plain": [
       "<Figure size 432x288 with 1 Axes>"
      ]
     },
     "metadata": {
      "needs_background": "light"
     },
     "output_type": "display_data"
    }
   ],
   "source": [
    "fri = agg_df.loc['Friday']\n",
    "\n",
    "timestamps = []\n",
    "for timestamp in fri.index:\n",
    "    timestamps.append(str(timestamp)[:-2])\n",
    "plt.figure()\n",
    "plt.plot(timestamps, fri['Water'])\n",
    "plt.xticks(rotation=90)\n",
    "# plt.ylim(0, 30)\n",
    "plt.show()"
   ]
  },
  {
   "cell_type": "code",
   "execution_count": 132,
   "metadata": {},
   "outputs": [
    {
     "data": {
      "image/png": "[encoded data removed]",
      "text/plain": [
       "<Figure size 432x288 with 1 Axes>"
      ]
     },
     "metadata": {
      "needs_background": "light"
     },
     "output_type": "display_data"
    }
   ],
   "source": [
    "thu = agg_df.loc['Thursday']\n",
    "\n",
    "plt.figure()\n",
    "plt.plot(timestamps, thu['Water'])\n",
    "plt.xticks(rotation=90)\n",
    "# plt.ylim(0, 30)\n",
    "plt.show()"
   ]
  }
 ],
 "metadata": {
  "kernelspec": {
   "display_name": "Python 3 (ipykernel)",
   "language": "python",
   "name": "python3"
  },
  "language_info": {
   "codemirror_mode": {
    "name": "ipython",
    "version": 3
   },
   "file_extension": ".py",
   "mimetype": "text/x-python",
   "name": "python",
   "nbconvert_exporter": "python",
   "pygments_lexer": "ipython3",
   "version": "3.9.12 (main, Apr  4 2022, 05:22:27) [MSC v.1916 64 bit (AMD64)]"
  },
  "vscode": {
   "interpreter": {
    "hash": "610a6f344c2137faf927ea819c63f6cee33a2c04455044b28099f39fe9722347"
   }
  }
 },
 "nbformat": 4,
 "nbformat_minor": 2
}
