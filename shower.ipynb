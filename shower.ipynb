{
 "cells": [
  {
   "cell_type": "markdown",
   "metadata": {},
   "source": [
    "# DATA SCIENCE WINTER TERM PROJECT\n",
    "\n",
    "-----\n",
    "\n",
    "## PROJECT: Using Data Science and Machine Learning to Examine and Predict Optimal Shower Time\n",
    "\n",
    "---------\n",
    "\n",
    "**GROUP MEMBER:** \n",
    "- Trung Nguyen \n",
    "- Binh Nguyen\n"
   ]
  },
  {
   "cell_type": "markdown",
   "metadata": {},
   "source": [
    "### I. Project Introduction\n",
    "\n",
    "If you live in Noah, picking a time to shower can be a game of gacha. If you are lucky, the water pressure will be strong and you will have a good time showering. However, if you are unlucky, then you might have a rough time.\n",
    "\n",
    "This project aim is to find the best time to have a shower using a collection of continuously taken data.\n",
    "\n",
    "We also look at the trend of the water usage throughout the course of a week, a month, and a year.\n"
   ]
  },
  {
   "cell_type": "code",
   "execution_count": 2,
   "metadata": {},
   "outputs": [],
   "source": [
    "import pandas as pd\n",
    "import numpy as np"
   ]
  },
  {
   "cell_type": "markdown",
   "metadata": {},
   "source": [
    "### II. Dataset Description\n",
    "\n",
    "#### A. Dataset Overview\n",
    "Our dataset is a collective dataset that is continuously taken for the last 5 years, from 2018 to 2021.\n",
    "\n",
    "The format of the data looks something like this:\n",
    "\n",
    "|Timestamp    |Water Use (gal)|\n",
    "|:---         |:----:         |\n",
    "|1/1/2018 0:00|0              |\n",
    "|1/1/2018 0:15|0              |\n",
    "|1/1/2018 0:30|0              |\n",
    "\n",
    "As the meters take measures every 15 minutes, there will be a period of 15 minutes in between our timestamps.\n",
    "\n",
    "#### B. Data Cleaning & Preprocessing\n",
    "\n",
    "We deleted all rows that consist of all null values and incorrectly formatted data. Usually, this is enough. However, as there is a year of 2020 where people cannot be on campus so we decided to get rid of that whole period. We also looked into breaks and shutdowns but as we have those every year so our model will be able to recognize them.\n",
    "\n",
    "After the cleaning process, we reformatted our data by splitting the our **Timestamp** into different columns: **Month, Day, Time, and Water**\n",
    "\n",
    "Basically, our new table looks like this:\n",
    "\n",
    "|     |Month|Day   |Time    |Water  |\n",
    "|:----|:---:|:-----|:-------|:------|\n",
    "|**0**|1    |Monday|08:00:00|0.00000|\n",
    "|**1**|1    |Monday|08:15:00|0.00000|\n",
    "|**2**|1    |Monday|08:30:00|0.00000|\n",
    "\n",
    "Our idea is to use **Month, Day, and Time** columns as variables to predict the **Water** column. Now we are ready for some Machine Learning."
   ]
  },
  {
   "cell_type": "code",
   "execution_count": 3,
   "metadata": {
    "scrolled": true
   },
   "outputs": [
    {
     "data": {
      "text/html": [
       "<div>\n",
       "<style scoped>\n",
       "    .dataframe tbody tr th:only-of-type {\n",
       "        vertical-align: middle;\n",
       "    }\n",
       "\n",
       "    .dataframe tbody tr th {\n",
       "        vertical-align: top;\n",
       "    }\n",
       "\n",
       "    .dataframe thead th {\n",
       "        text-align: right;\n",
       "    }\n",
       "</style>\n",
       "<table border=\"1\" class=\"dataframe\">\n",
       "  <thead>\n",
       "    <tr style=\"text-align: right;\">\n",
       "      <th></th>\n",
       "      <th>Month</th>\n",
       "      <th>Day</th>\n",
       "      <th>Time</th>\n",
       "      <th>Water</th>\n",
       "    </tr>\n",
       "  </thead>\n",
       "  <tbody>\n",
       "    <tr>\n",
       "      <th>0</th>\n",
       "      <td>1</td>\n",
       "      <td>Monday</td>\n",
       "      <td>08:00:00</td>\n",
       "      <td>0.00000</td>\n",
       "    </tr>\n",
       "    <tr>\n",
       "      <th>1</th>\n",
       "      <td>1</td>\n",
       "      <td>Monday</td>\n",
       "      <td>08:15:00</td>\n",
       "      <td>0.00000</td>\n",
       "    </tr>\n",
       "    <tr>\n",
       "      <th>2</th>\n",
       "      <td>1</td>\n",
       "      <td>Monday</td>\n",
       "      <td>08:30:00</td>\n",
       "      <td>0.00000</td>\n",
       "    </tr>\n",
       "    <tr>\n",
       "      <th>3</th>\n",
       "      <td>1</td>\n",
       "      <td>Monday</td>\n",
       "      <td>08:45:00</td>\n",
       "      <td>0.00000</td>\n",
       "    </tr>\n",
       "    <tr>\n",
       "      <th>4</th>\n",
       "      <td>1</td>\n",
       "      <td>Monday</td>\n",
       "      <td>09:00:00</td>\n",
       "      <td>0.00000</td>\n",
       "    </tr>\n",
       "    <tr>\n",
       "      <th>...</th>\n",
       "      <td>...</td>\n",
       "      <td>...</td>\n",
       "      <td>...</td>\n",
       "      <td>...</td>\n",
       "    </tr>\n",
       "    <tr>\n",
       "      <th>58063</th>\n",
       "      <td>12</td>\n",
       "      <td>Friday</td>\n",
       "      <td>22:45:00</td>\n",
       "      <td>2.28294</td>\n",
       "    </tr>\n",
       "    <tr>\n",
       "      <th>58064</th>\n",
       "      <td>12</td>\n",
       "      <td>Friday</td>\n",
       "      <td>23:00:00</td>\n",
       "      <td>4.01284</td>\n",
       "    </tr>\n",
       "    <tr>\n",
       "      <th>58065</th>\n",
       "      <td>12</td>\n",
       "      <td>Friday</td>\n",
       "      <td>23:15:00</td>\n",
       "      <td>7.57591</td>\n",
       "    </tr>\n",
       "    <tr>\n",
       "      <th>58066</th>\n",
       "      <td>12</td>\n",
       "      <td>Friday</td>\n",
       "      <td>23:30:00</td>\n",
       "      <td>0.27672</td>\n",
       "    </tr>\n",
       "    <tr>\n",
       "      <th>58067</th>\n",
       "      <td>12</td>\n",
       "      <td>Friday</td>\n",
       "      <td>23:45:00</td>\n",
       "      <td>8.09426</td>\n",
       "    </tr>\n",
       "  </tbody>\n",
       "</table>\n",
       "<p>58068 rows × 4 columns</p>\n",
       "</div>"
      ],
      "text/plain": [
       "       Month     Day      Time    Water\n",
       "0          1  Monday  08:00:00  0.00000\n",
       "1          1  Monday  08:15:00  0.00000\n",
       "2          1  Monday  08:30:00  0.00000\n",
       "3          1  Monday  08:45:00  0.00000\n",
       "4          1  Monday  09:00:00  0.00000\n",
       "...      ...     ...       ...      ...\n",
       "58063     12  Friday  22:45:00  2.28294\n",
       "58064     12  Friday  23:00:00  4.01284\n",
       "58065     12  Friday  23:15:00  7.57591\n",
       "58066     12  Friday  23:30:00  0.27672\n",
       "58067     12  Friday  23:45:00  8.09426\n",
       "\n",
       "[58068 rows x 4 columns]"
      ]
     },
     "execution_count": 3,
     "metadata": {},
     "output_type": "execute_result"
    }
   ],
   "source": [
    "df0 = pd.read_csv(\"Noah_5Years_000.csv\", skiprows=4)\n",
    "df1 = pd.read_csv(\"Noah_5Years_002.csv\", skiprows=4)\n",
    "df2 = pd.read_csv(\"Noah_5Years_003.csv\", skiprows=4)\n",
    "\n",
    "df = pd.concat([df0, df1, df2])\n",
    "df = df[['Timestamp', 'Noah - Water Use (gal)']]\n",
    "df[['Date', 'Time']] = df['Timestamp'].str.split(' ', expand = True)\n",
    "df['Date'] = pd.to_datetime(df['Date'])\n",
    "df['Year'] = df['Date'].dt.year\n",
    "df['Month'] = df['Date'].dt.month\n",
    "df['Day'] = df['Date'].dt.day_name()\n",
    "df = df[['Date', 'Year', 'Month', 'Day', 'Time', 'Noah - Water Use (gal)']]\n",
    "df.columns = ['Date', 'Year', 'Month', 'Day', 'Time', 'Water']\n",
    "\n",
    "df.dropna(inplace=True)\n",
    "\n",
    "df['Time'] = pd.to_datetime(df['Time']).dt.time\n",
    "\n",
    "from datetime import time\n",
    "df = df[df['Time'] >= time(8)]      #Exclude timestamp before 8 am\n",
    "\n",
    "df = df.reset_index(drop=True)\n",
    "\n",
    "\n",
    "#Test set: Year 2022\n",
    "start = df[df['Date'] == '2022-01-01'].iloc[0].name\n",
    "end = df[df['Date'] == '2022-12-31'].iloc[-1].name\n",
    "df_test = df.iloc[start: end]\n",
    "df_train = df.iloc[: start]\n",
    "\n",
    "df_train = df_train[['Month', 'Day', 'Time', 'Water']]\n",
    "\n",
    "df_train      #Final dataset"
   ]
  },
  {
   "cell_type": "markdown",
   "metadata": {},
   "source": [
    "### III. Machine Learning Model\n",
    "\n",
    "We decided to use Neural Network as our model. As mentioned above, **X** will consist of **Month, Day, and Time** columns and **y** will be the **Water** column.\n",
    "\n",
    "We splitted our dataset into 2 new sets: the **training set** and the **test set**."
   ]
  },
  {
   "cell_type": "code",
   "execution_count": 4,
   "metadata": {},
   "outputs": [],
   "source": [
    "from sklearn.neural_network import MLPRegressor\n",
    "from sklearn.model_selection import train_test_split\n",
    "from sklearn.preprocessing import OneHotEncoder\n",
    "\n",
    "X = df_train.drop('Water', axis=1)\n",
    "y = df_train['Water']\n",
    "\n",
    "X_train, X_test, y_train, y_test = train_test_split(X, y, random_state=0)\n",
    "transformer = OneHotEncoder()\n",
    "X_train_transformed = transformer.fit_transform(X_train)\n",
    "X_test_transformed = transformer.transform(X_test)"
   ]
  },
  {
   "cell_type": "markdown",
   "metadata": {},
   "source": [
    "Our Neural Network consists of 10 neurons and 1 layer. Time to run the model:"
   ]
  },
  {
   "cell_type": "code",
   "execution_count": 5,
   "metadata": {},
   "outputs": [
    {
     "name": "stderr",
     "output_type": "stream",
     "text": [
      "c:\\Users\\admin\\anaconda3\\lib\\site-packages\\sklearn\\neural_network\\_multilayer_perceptron.py:692: ConvergenceWarning: Stochastic Optimizer: Maximum iterations (200) reached and the optimization hasn't converged yet.\n",
      "  warnings.warn(\n"
     ]
    }
   ],
   "source": [
    "rgs = MLPRegressor(hidden_layer_sizes=(10,))\n",
    "rgs.fit(X_train_transformed, y_train)\n",
    "y_pred = rgs.predict(X_test_transformed)"
   ]
  },
  {
   "cell_type": "markdown",
   "metadata": {},
   "source": [
    "Below is our predicted set:"
   ]
  },
  {
   "cell_type": "code",
   "execution_count": 6,
   "metadata": {},
   "outputs": [
    {
     "data": {
      "text/plain": [
       "0         7.255170\n",
       "1        19.593947\n",
       "2        16.833641\n",
       "3         8.340524\n",
       "4         3.365522\n",
       "           ...    \n",
       "14512    18.421065\n",
       "14513    19.987987\n",
       "14514    11.877639\n",
       "14515     6.249898\n",
       "14516     4.198766\n",
       "Length: 14517, dtype: float64"
      ]
     },
     "execution_count": 6,
     "metadata": {},
     "output_type": "execute_result"
    }
   ],
   "source": [
    "pd.Series(y_pred)"
   ]
  },
  {
   "cell_type": "markdown",
   "metadata": {},
   "source": [
    "And below is our test set to compare with our predicted set:"
   ]
  },
  {
   "cell_type": "markdown",
   "metadata": {},
   "source": [
    "Using r2_score to examine our accuracy:"
   ]
  },
  {
   "cell_type": "code",
   "execution_count": 7,
   "metadata": {},
   "outputs": [
    {
     "data": {
      "text/plain": [
       "0.27767470423780394"
      ]
     },
     "execution_count": 7,
     "metadata": {},
     "output_type": "execute_result"
    }
   ],
   "source": [
    "from sklearn.metrics import r2_score\n",
    "r2_score(y_test, y_pred)"
   ]
  },
  {
   "cell_type": "code",
   "execution_count": 8,
   "metadata": {},
   "outputs": [
    {
     "data": {
      "text/html": [
       "<div>\n",
       "<style scoped>\n",
       "    .dataframe tbody tr th:only-of-type {\n",
       "        vertical-align: middle;\n",
       "    }\n",
       "\n",
       "    .dataframe tbody tr th {\n",
       "        vertical-align: top;\n",
       "    }\n",
       "\n",
       "    .dataframe thead th {\n",
       "        text-align: right;\n",
       "    }\n",
       "</style>\n",
       "<table border=\"1\" class=\"dataframe\">\n",
       "  <thead>\n",
       "    <tr style=\"text-align: right;\">\n",
       "      <th></th>\n",
       "      <th>Date</th>\n",
       "      <th>Year</th>\n",
       "      <th>Month</th>\n",
       "      <th>Day</th>\n",
       "      <th>Time</th>\n",
       "      <th>Water</th>\n",
       "    </tr>\n",
       "  </thead>\n",
       "  <tbody>\n",
       "    <tr>\n",
       "      <th>0</th>\n",
       "      <td>2022-01-01</td>\n",
       "      <td>2022</td>\n",
       "      <td>1</td>\n",
       "      <td>Saturday</td>\n",
       "      <td>08:00:00</td>\n",
       "      <td>1.59134</td>\n",
       "    </tr>\n",
       "    <tr>\n",
       "      <th>1</th>\n",
       "      <td>2022-01-01</td>\n",
       "      <td>2022</td>\n",
       "      <td>1</td>\n",
       "      <td>Saturday</td>\n",
       "      <td>08:15:00</td>\n",
       "      <td>0.24213</td>\n",
       "    </tr>\n",
       "    <tr>\n",
       "      <th>2</th>\n",
       "      <td>2022-01-01</td>\n",
       "      <td>2022</td>\n",
       "      <td>1</td>\n",
       "      <td>Saturday</td>\n",
       "      <td>08:30:00</td>\n",
       "      <td>0.65721</td>\n",
       "    </tr>\n",
       "    <tr>\n",
       "      <th>3</th>\n",
       "      <td>2022-01-01</td>\n",
       "      <td>2022</td>\n",
       "      <td>1</td>\n",
       "      <td>Saturday</td>\n",
       "      <td>08:45:00</td>\n",
       "      <td>0.17295</td>\n",
       "    </tr>\n",
       "    <tr>\n",
       "      <th>4</th>\n",
       "      <td>2022-01-01</td>\n",
       "      <td>2022</td>\n",
       "      <td>1</td>\n",
       "      <td>Saturday</td>\n",
       "      <td>09:00:00</td>\n",
       "      <td>0.20754</td>\n",
       "    </tr>\n",
       "    <tr>\n",
       "      <th>...</th>\n",
       "      <td>...</td>\n",
       "      <td>...</td>\n",
       "      <td>...</td>\n",
       "      <td>...</td>\n",
       "      <td>...</td>\n",
       "      <td>...</td>\n",
       "    </tr>\n",
       "    <tr>\n",
       "      <th>23316</th>\n",
       "      <td>2022-12-31</td>\n",
       "      <td>2022</td>\n",
       "      <td>12</td>\n",
       "      <td>Saturday</td>\n",
       "      <td>22:30:00</td>\n",
       "      <td>1.34901</td>\n",
       "    </tr>\n",
       "    <tr>\n",
       "      <th>23317</th>\n",
       "      <td>2022-12-31</td>\n",
       "      <td>2022</td>\n",
       "      <td>12</td>\n",
       "      <td>Saturday</td>\n",
       "      <td>22:45:00</td>\n",
       "      <td>0.86475</td>\n",
       "    </tr>\n",
       "    <tr>\n",
       "      <th>23318</th>\n",
       "      <td>2022-12-31</td>\n",
       "      <td>2022</td>\n",
       "      <td>12</td>\n",
       "      <td>Saturday</td>\n",
       "      <td>23:00:00</td>\n",
       "      <td>3.35533</td>\n",
       "    </tr>\n",
       "    <tr>\n",
       "      <th>23319</th>\n",
       "      <td>2022-12-31</td>\n",
       "      <td>2022</td>\n",
       "      <td>12</td>\n",
       "      <td>Saturday</td>\n",
       "      <td>23:15:00</td>\n",
       "      <td>2.83638</td>\n",
       "    </tr>\n",
       "    <tr>\n",
       "      <th>23320</th>\n",
       "      <td>2022-12-31</td>\n",
       "      <td>2022</td>\n",
       "      <td>12</td>\n",
       "      <td>Saturday</td>\n",
       "      <td>23:30:00</td>\n",
       "      <td>0.89934</td>\n",
       "    </tr>\n",
       "  </tbody>\n",
       "</table>\n",
       "<p>23321 rows × 6 columns</p>\n",
       "</div>"
      ],
      "text/plain": [
       "            Date  Year  Month       Day      Time    Water\n",
       "0     2022-01-01  2022      1  Saturday  08:00:00  1.59134\n",
       "1     2022-01-01  2022      1  Saturday  08:15:00  0.24213\n",
       "2     2022-01-01  2022      1  Saturday  08:30:00  0.65721\n",
       "3     2022-01-01  2022      1  Saturday  08:45:00  0.17295\n",
       "4     2022-01-01  2022      1  Saturday  09:00:00  0.20754\n",
       "...          ...   ...    ...       ...       ...      ...\n",
       "23316 2022-12-31  2022     12  Saturday  22:30:00  1.34901\n",
       "23317 2022-12-31  2022     12  Saturday  22:45:00  0.86475\n",
       "23318 2022-12-31  2022     12  Saturday  23:00:00  3.35533\n",
       "23319 2022-12-31  2022     12  Saturday  23:15:00  2.83638\n",
       "23320 2022-12-31  2022     12  Saturday  23:30:00  0.89934\n",
       "\n",
       "[23321 rows x 6 columns]"
      ]
     },
     "execution_count": 8,
     "metadata": {},
     "output_type": "execute_result"
    }
   ],
   "source": [
    "df_test = df_test.reset_index(drop=True)\n",
    "df_test.columns = ['Date', 'Year',\t'Month',\t'Day',\t'Time',\t'Water']\n",
    "df_test"
   ]
  },
  {
   "cell_type": "code",
   "execution_count": 9,
   "metadata": {},
   "outputs": [
    {
     "data": {
      "text/plain": [
       "Date             \n",
       "2022-01-01  31       15:45:00\n",
       "            3        08:45:00\n",
       "            20       13:00:00\n",
       "            4        09:00:00\n",
       "            23       13:45:00\n",
       "                       ...   \n",
       "2022-12-31  23314    22:00:00\n",
       "            23320    23:30:00\n",
       "            23304    19:30:00\n",
       "            23309    20:45:00\n",
       "            23311    21:15:00\n",
       "Name: Time, Length: 3650, dtype: object"
      ]
     },
     "execution_count": 9,
     "metadata": {},
     "output_type": "execute_result"
    }
   ],
   "source": [
    "b = df_test.groupby('Date').apply(lambda d: d.iloc[d['Water'].argsort()[:10]]['Time']) \n",
    "b"
   ]
  },
  {
   "cell_type": "code",
   "execution_count": 10,
   "metadata": {},
   "outputs": [
    {
     "data": {
      "image/png": "[encoded data removed]",
      "text/plain": [
       "<Figure size 432x288 with 1 Axes>"
      ]
     },
     "metadata": {
      "needs_background": "light"
     },
     "output_type": "display_data"
    }
   ],
   "source": [
    "import matplotlib.pyplot as plt\n",
    "plt.figure()\n",
    "c = b.apply(lambda x: x.hour)\n",
    "plt.hist(c)\n",
    "plt.show()"
   ]
  },
  {
   "cell_type": "code",
   "execution_count": 11,
   "metadata": {},
   "outputs": [
    {
     "name": "stdout",
     "output_type": "stream",
     "text": [
      "Date           \n",
      "2022-01-01  0      08:00:00\n",
      "            1      08:15:00\n",
      "            2      08:30:00\n",
      "            3      08:45:00\n",
      "            43     18:45:00\n",
      "            33     16:15:00\n",
      "            7      09:45:00\n",
      "            45     19:15:00\n",
      "            42     18:30:00\n",
      "            34     16:30:00\n",
      "2022-01-02  64     08:00:00\n",
      "            65     08:15:00\n",
      "            66     08:30:00\n",
      "            67     08:45:00\n",
      "            107    18:45:00\n",
      "            71     09:45:00\n",
      "            97     16:15:00\n",
      "            106    18:30:00\n",
      "            68     09:00:00\n",
      "            98     16:30:00\n",
      "Name: Time, dtype: object\n"
     ]
    },
    {
     "name": "stderr",
     "output_type": "stream",
     "text": [
      "C:\\Users\\admin\\AppData\\Local\\Temp\\ipykernel_3168\\1073370504.py:3: SettingWithCopyWarning: \n",
      "A value is trying to be set on a copy of a slice from a DataFrame.\n",
      "Try using .loc[row_indexer,col_indexer] = value instead\n",
      "\n",
      "See the caveats in the documentation: https://pandas.pydata.org/pandas-docs/stable/user_guide/indexing.html#returning-a-view-versus-a-copy\n",
      "  X_test1['Water'] = rgs.predict(X_test1_tranformed)\n",
      "C:\\Users\\admin\\AppData\\Local\\Temp\\ipykernel_3168\\1073370504.py:4: SettingWithCopyWarning: \n",
      "A value is trying to be set on a copy of a slice from a DataFrame.\n",
      "Try using .loc[row_indexer,col_indexer] = value instead\n",
      "\n",
      "See the caveats in the documentation: https://pandas.pydata.org/pandas-docs/stable/user_guide/indexing.html#returning-a-view-versus-a-copy\n",
      "  X_test1['Date'] = df_test['Date']\n"
     ]
    }
   ],
   "source": [
    "X_test1 = df_test[['Month', 'Day', 'Time']]\n",
    "X_test1_tranformed = OneHotEncoder().fit_transform(X_test1)\n",
    "X_test1['Water'] = rgs.predict(X_test1_tranformed)\n",
    "X_test1['Date'] = df_test['Date']\n",
    "a = X_test1.groupby('Date').apply(lambda d: d.iloc[d['Water'].argsort()[:10]]['Time']) \n",
    "print(a.head(20))"
   ]
  },
  {
   "cell_type": "code",
   "execution_count": 12,
   "metadata": {},
   "outputs": [
    {
     "data": {
      "image/png": "[encoded data removed]",
      "text/plain": [
       "<Figure size 432x288 with 1 Axes>"
      ]
     },
     "metadata": {
      "needs_background": "light"
     },
     "output_type": "display_data"
    }
   ],
   "source": [
    "plt.figure()\n",
    "c = a.apply(lambda x: x.hour)\n",
    "plt.hist(c)\n",
    "plt.show()"
   ]
  },
  {
   "cell_type": "code",
   "execution_count": 13,
   "metadata": {},
   "outputs": [
    {
     "data": {
      "text/html": [
       "<div>\n",
       "<style scoped>\n",
       "    .dataframe tbody tr th:only-of-type {\n",
       "        vertical-align: middle;\n",
       "    }\n",
       "\n",
       "    .dataframe tbody tr th {\n",
       "        vertical-align: top;\n",
       "    }\n",
       "\n",
       "    .dataframe thead th {\n",
       "        text-align: right;\n",
       "    }\n",
       "</style>\n",
       "<table border=\"1\" class=\"dataframe\">\n",
       "  <thead>\n",
       "    <tr style=\"text-align: right;\">\n",
       "      <th></th>\n",
       "      <th>Time</th>\n",
       "      <th>Water</th>\n",
       "    </tr>\n",
       "  </thead>\n",
       "  <tbody>\n",
       "    <tr>\n",
       "      <th>0</th>\n",
       "      <td>17:45:00</td>\n",
       "      <td>4.963136</td>\n",
       "    </tr>\n",
       "    <tr>\n",
       "      <th>1</th>\n",
       "      <td>15:15:00</td>\n",
       "      <td>5.677910</td>\n",
       "    </tr>\n",
       "    <tr>\n",
       "      <th>2</th>\n",
       "      <td>18:30:00</td>\n",
       "      <td>5.954083</td>\n",
       "    </tr>\n",
       "  </tbody>\n",
       "</table>\n",
       "</div>"
      ],
      "text/plain": [
       "       Time     Water\n",
       "0  17:45:00  4.963136\n",
       "1  15:15:00  5.677910\n",
       "2  18:30:00  5.954083"
      ]
     },
     "execution_count": 13,
     "metadata": {},
     "output_type": "execute_result"
    }
   ],
   "source": [
    "from datetime import datetime\n",
    "from datetime import timedelta\n",
    "def get_3best_time(month=datetime.now().month, day=datetime.now().day, earliest='08:00', latest='23:45', trained_model=rgs):\n",
    "    earliest = datetime.strptime(earliest, '%H:%M')\n",
    "    latest = datetime.strptime(latest, '%H:%M')\n",
    "\n",
    "    time_array = []\n",
    "    while True:\n",
    "        time_array.append(earliest.time())\n",
    "        if earliest == latest:\n",
    "            break\n",
    "        earliest += timedelta(minutes=15)\n",
    "        \n",
    "    cur_X = pd.DataFrame({'Month': month, 'Day': datetime(datetime.now().year, month, day).strftime('%A'), 'Time': time_array})\n",
    "    cur_X_transformed = transformer.transform(cur_X)\n",
    "    y = trained_model.predict(cur_X_transformed)\n",
    "    cur_X['Water'] = trained_model.predict(cur_X_transformed)\n",
    "    top_3 = cur_X.iloc[cur_X['Water'].argsort()[:3]]\n",
    "    return top_3[['Time', 'Water']].reset_index(drop=True)\n",
    "get_3best_time()    "
   ]
  },
  {
   "cell_type": "code",
   "execution_count": 14,
   "metadata": {},
   "outputs": [
    {
     "data": {
      "text/html": [
       "<div>\n",
       "<style scoped>\n",
       "    .dataframe tbody tr th:only-of-type {\n",
       "        vertical-align: middle;\n",
       "    }\n",
       "\n",
       "    .dataframe tbody tr th {\n",
       "        vertical-align: top;\n",
       "    }\n",
       "\n",
       "    .dataframe thead th {\n",
       "        text-align: right;\n",
       "    }\n",
       "</style>\n",
       "<table border=\"1\" class=\"dataframe\">\n",
       "  <thead>\n",
       "    <tr style=\"text-align: right;\">\n",
       "      <th></th>\n",
       "      <th>Time</th>\n",
       "      <th>Water</th>\n",
       "    </tr>\n",
       "  </thead>\n",
       "  <tbody>\n",
       "    <tr>\n",
       "      <th>0</th>\n",
       "      <td>19:45:00</td>\n",
       "      <td>6.561625</td>\n",
       "    </tr>\n",
       "    <tr>\n",
       "      <th>1</th>\n",
       "      <td>19:15:00</td>\n",
       "      <td>6.844355</td>\n",
       "    </tr>\n",
       "    <tr>\n",
       "      <th>2</th>\n",
       "      <td>19:00:00</td>\n",
       "      <td>7.110597</td>\n",
       "    </tr>\n",
       "  </tbody>\n",
       "</table>\n",
       "</div>"
      ],
      "text/plain": [
       "       Time     Water\n",
       "0  19:45:00  6.561625\n",
       "1  19:15:00  6.844355\n",
       "2  19:00:00  7.110597"
      ]
     },
     "execution_count": 14,
     "metadata": {},
     "output_type": "execute_result"
    }
   ],
   "source": [
    "month = 1\n",
    "day = 24\n",
    "get_3best_time(1, 24, '19:00', '22:00') "
   ]
  },
  {
   "cell_type": "code",
   "execution_count": 15,
   "metadata": {},
   "outputs": [],
   "source": [
    "agg_df = df.groupby(['Day', 'Time']).agg({'Water': 'mean'})"
   ]
  },
  {
   "cell_type": "code",
   "execution_count": 30,
   "metadata": {},
   "outputs": [
    {
     "data": {
      "image/png": "[encoded data removed]",
      "text/plain": [
       "<Figure size 432x288 with 1 Axes>"
      ]
     },
     "metadata": {
      "needs_background": "light"
     },
     "output_type": "display_data"
    }
   ],
   "source": [
    "mon = agg_df.loc['Monday']\n",
    "\n",
    "plt.figure()\n",
    "plt.plot(np.arange(8, 24, 0.25), mon['Water'])\n",
    "# plt.ylim(0, 30)\n",
    "plt.show()"
   ]
  },
  {
   "cell_type": "code",
   "execution_count": 31,
   "metadata": {},
   "outputs": [
    {
     "data": {
      "image/png": "[encoded data removed]",
      "text/plain": [
       "<Figure size 432x288 with 1 Axes>"
      ]
     },
     "metadata": {
      "needs_background": "light"
     },
     "output_type": "display_data"
    }
   ],
   "source": [
    "tue = agg_df.loc['Tuesday']\n",
    "\n",
    "plt.figure()\n",
    "plt.plot(np.arange(8, 24, 0.25), tue['Water'])\n",
    "plt.show()"
   ]
  },
  {
   "cell_type": "code",
   "execution_count": 18,
   "metadata": {},
   "outputs": [
    {
     "data": {
      "text/html": [
       "<div>\n",
       "<style scoped>\n",
       "    .dataframe tbody tr th:only-of-type {\n",
       "        vertical-align: middle;\n",
       "    }\n",
       "\n",
       "    .dataframe tbody tr th {\n",
       "        vertical-align: top;\n",
       "    }\n",
       "\n",
       "    .dataframe thead th {\n",
       "        text-align: right;\n",
       "    }\n",
       "</style>\n",
       "<table border=\"1\" class=\"dataframe\">\n",
       "  <thead>\n",
       "    <tr style=\"text-align: right;\">\n",
       "      <th></th>\n",
       "      <th>Date</th>\n",
       "      <th>Year</th>\n",
       "      <th>Month</th>\n",
       "      <th>Day</th>\n",
       "      <th>Time</th>\n",
       "      <th>Water</th>\n",
       "    </tr>\n",
       "  </thead>\n",
       "  <tbody>\n",
       "    <tr>\n",
       "      <th>0</th>\n",
       "      <td>2018-01-01</td>\n",
       "      <td>2018</td>\n",
       "      <td>1</td>\n",
       "      <td>Monday</td>\n",
       "      <td>08:00:00</td>\n",
       "      <td>0.00000</td>\n",
       "    </tr>\n",
       "    <tr>\n",
       "      <th>1</th>\n",
       "      <td>2018-01-01</td>\n",
       "      <td>2018</td>\n",
       "      <td>1</td>\n",
       "      <td>Monday</td>\n",
       "      <td>08:15:00</td>\n",
       "      <td>0.00000</td>\n",
       "    </tr>\n",
       "    <tr>\n",
       "      <th>2</th>\n",
       "      <td>2018-01-01</td>\n",
       "      <td>2018</td>\n",
       "      <td>1</td>\n",
       "      <td>Monday</td>\n",
       "      <td>08:30:00</td>\n",
       "      <td>0.00000</td>\n",
       "    </tr>\n",
       "    <tr>\n",
       "      <th>3</th>\n",
       "      <td>2018-01-01</td>\n",
       "      <td>2018</td>\n",
       "      <td>1</td>\n",
       "      <td>Monday</td>\n",
       "      <td>08:45:00</td>\n",
       "      <td>0.00000</td>\n",
       "    </tr>\n",
       "    <tr>\n",
       "      <th>4</th>\n",
       "      <td>2018-01-01</td>\n",
       "      <td>2018</td>\n",
       "      <td>1</td>\n",
       "      <td>Monday</td>\n",
       "      <td>09:00:00</td>\n",
       "      <td>0.00000</td>\n",
       "    </tr>\n",
       "    <tr>\n",
       "      <th>...</th>\n",
       "      <td>...</td>\n",
       "      <td>...</td>\n",
       "      <td>...</td>\n",
       "      <td>...</td>\n",
       "      <td>...</td>\n",
       "      <td>...</td>\n",
       "    </tr>\n",
       "    <tr>\n",
       "      <th>82056</th>\n",
       "      <td>2023-01-11</td>\n",
       "      <td>2023</td>\n",
       "      <td>1</td>\n",
       "      <td>Wednesday</td>\n",
       "      <td>14:30:00</td>\n",
       "      <td>10.03200</td>\n",
       "    </tr>\n",
       "    <tr>\n",
       "      <th>82057</th>\n",
       "      <td>2023-01-11</td>\n",
       "      <td>2023</td>\n",
       "      <td>1</td>\n",
       "      <td>Wednesday</td>\n",
       "      <td>14:45:00</td>\n",
       "      <td>12.62555</td>\n",
       "    </tr>\n",
       "    <tr>\n",
       "      <th>82058</th>\n",
       "      <td>2023-01-11</td>\n",
       "      <td>2023</td>\n",
       "      <td>1</td>\n",
       "      <td>Wednesday</td>\n",
       "      <td>15:00:00</td>\n",
       "      <td>4.08202</td>\n",
       "    </tr>\n",
       "    <tr>\n",
       "      <th>82059</th>\n",
       "      <td>2023-01-11</td>\n",
       "      <td>2023</td>\n",
       "      <td>1</td>\n",
       "      <td>Wednesday</td>\n",
       "      <td>15:15:00</td>\n",
       "      <td>5.05054</td>\n",
       "    </tr>\n",
       "    <tr>\n",
       "      <th>82060</th>\n",
       "      <td>2023-01-11</td>\n",
       "      <td>2023</td>\n",
       "      <td>1</td>\n",
       "      <td>Wednesday</td>\n",
       "      <td>15:30:00</td>\n",
       "      <td>0.00000</td>\n",
       "    </tr>\n",
       "  </tbody>\n",
       "</table>\n",
       "<p>82061 rows × 6 columns</p>\n",
       "</div>"
      ],
      "text/plain": [
       "            Date  Year  Month        Day      Time     Water\n",
       "0     2018-01-01  2018      1     Monday  08:00:00   0.00000\n",
       "1     2018-01-01  2018      1     Monday  08:15:00   0.00000\n",
       "2     2018-01-01  2018      1     Monday  08:30:00   0.00000\n",
       "3     2018-01-01  2018      1     Monday  08:45:00   0.00000\n",
       "4     2018-01-01  2018      1     Monday  09:00:00   0.00000\n",
       "...          ...   ...    ...        ...       ...       ...\n",
       "82056 2023-01-11  2023      1  Wednesday  14:30:00  10.03200\n",
       "82057 2023-01-11  2023      1  Wednesday  14:45:00  12.62555\n",
       "82058 2023-01-11  2023      1  Wednesday  15:00:00   4.08202\n",
       "82059 2023-01-11  2023      1  Wednesday  15:15:00   5.05054\n",
       "82060 2023-01-11  2023      1  Wednesday  15:30:00   0.00000\n",
       "\n",
       "[82061 rows x 6 columns]"
      ]
     },
     "execution_count": 18,
     "metadata": {},
     "output_type": "execute_result"
    }
   ],
   "source": [
    "df"
   ]
  },
  {
   "cell_type": "code",
   "execution_count": 19,
   "metadata": {},
   "outputs": [
    {
     "data": {
      "text/html": [
       "<div>\n",
       "<style scoped>\n",
       "    .dataframe tbody tr th:only-of-type {\n",
       "        vertical-align: middle;\n",
       "    }\n",
       "\n",
       "    .dataframe tbody tr th {\n",
       "        vertical-align: top;\n",
       "    }\n",
       "\n",
       "    .dataframe thead th {\n",
       "        text-align: right;\n",
       "    }\n",
       "</style>\n",
       "<table border=\"1\" class=\"dataframe\">\n",
       "  <thead>\n",
       "    <tr style=\"text-align: right;\">\n",
       "      <th></th>\n",
       "      <th>Date</th>\n",
       "      <th>Year</th>\n",
       "      <th>Month</th>\n",
       "      <th>Day</th>\n",
       "      <th>Time</th>\n",
       "      <th>Noah - Water Use (gal)</th>\n",
       "    </tr>\n",
       "  </thead>\n",
       "  <tbody>\n",
       "    <tr>\n",
       "      <th>0</th>\n",
       "      <td>2018-01-01</td>\n",
       "      <td>2018</td>\n",
       "      <td>1</td>\n",
       "      <td>Monday</td>\n",
       "      <td>00:00</td>\n",
       "      <td>0.00000</td>\n",
       "    </tr>\n",
       "    <tr>\n",
       "      <th>1</th>\n",
       "      <td>2018-01-01</td>\n",
       "      <td>2018</td>\n",
       "      <td>1</td>\n",
       "      <td>Monday</td>\n",
       "      <td>00:15</td>\n",
       "      <td>0.00000</td>\n",
       "    </tr>\n",
       "    <tr>\n",
       "      <th>2</th>\n",
       "      <td>2018-01-01</td>\n",
       "      <td>2018</td>\n",
       "      <td>1</td>\n",
       "      <td>Monday</td>\n",
       "      <td>00:30</td>\n",
       "      <td>0.00000</td>\n",
       "    </tr>\n",
       "    <tr>\n",
       "      <th>3</th>\n",
       "      <td>2018-01-01</td>\n",
       "      <td>2018</td>\n",
       "      <td>1</td>\n",
       "      <td>Monday</td>\n",
       "      <td>00:45</td>\n",
       "      <td>0.00000</td>\n",
       "    </tr>\n",
       "    <tr>\n",
       "      <th>4</th>\n",
       "      <td>2018-01-01</td>\n",
       "      <td>2018</td>\n",
       "      <td>1</td>\n",
       "      <td>Monday</td>\n",
       "      <td>01:00</td>\n",
       "      <td>0.00000</td>\n",
       "    </tr>\n",
       "    <tr>\n",
       "      <th>...</th>\n",
       "      <td>...</td>\n",
       "      <td>...</td>\n",
       "      <td>...</td>\n",
       "      <td>...</td>\n",
       "      <td>...</td>\n",
       "      <td>...</td>\n",
       "    </tr>\n",
       "    <tr>\n",
       "      <th>26092</th>\n",
       "      <td>2023-01-11</td>\n",
       "      <td>2023</td>\n",
       "      <td>1</td>\n",
       "      <td>Wednesday</td>\n",
       "      <td>14:30</td>\n",
       "      <td>10.03200</td>\n",
       "    </tr>\n",
       "    <tr>\n",
       "      <th>26093</th>\n",
       "      <td>2023-01-11</td>\n",
       "      <td>2023</td>\n",
       "      <td>1</td>\n",
       "      <td>Wednesday</td>\n",
       "      <td>14:45</td>\n",
       "      <td>12.62555</td>\n",
       "    </tr>\n",
       "    <tr>\n",
       "      <th>26094</th>\n",
       "      <td>2023-01-11</td>\n",
       "      <td>2023</td>\n",
       "      <td>1</td>\n",
       "      <td>Wednesday</td>\n",
       "      <td>15:00</td>\n",
       "      <td>4.08202</td>\n",
       "    </tr>\n",
       "    <tr>\n",
       "      <th>26095</th>\n",
       "      <td>2023-01-11</td>\n",
       "      <td>2023</td>\n",
       "      <td>1</td>\n",
       "      <td>Wednesday</td>\n",
       "      <td>15:15</td>\n",
       "      <td>5.05054</td>\n",
       "    </tr>\n",
       "    <tr>\n",
       "      <th>26096</th>\n",
       "      <td>2023-01-11</td>\n",
       "      <td>2023</td>\n",
       "      <td>1</td>\n",
       "      <td>Wednesday</td>\n",
       "      <td>15:30</td>\n",
       "      <td>0.00000</td>\n",
       "    </tr>\n",
       "  </tbody>\n",
       "</table>\n",
       "<p>123045 rows × 6 columns</p>\n",
       "</div>"
      ],
      "text/plain": [
       "            Date  Year  Month        Day   Time  Noah - Water Use (gal)\n",
       "0     2018-01-01  2018      1     Monday  00:00                 0.00000\n",
       "1     2018-01-01  2018      1     Monday  00:15                 0.00000\n",
       "2     2018-01-01  2018      1     Monday  00:30                 0.00000\n",
       "3     2018-01-01  2018      1     Monday  00:45                 0.00000\n",
       "4     2018-01-01  2018      1     Monday  01:00                 0.00000\n",
       "...          ...   ...    ...        ...    ...                     ...\n",
       "26092 2023-01-11  2023      1  Wednesday  14:30                10.03200\n",
       "26093 2023-01-11  2023      1  Wednesday  14:45                12.62555\n",
       "26094 2023-01-11  2023      1  Wednesday  15:00                 4.08202\n",
       "26095 2023-01-11  2023      1  Wednesday  15:15                 5.05054\n",
       "26096 2023-01-11  2023      1  Wednesday  15:30                 0.00000\n",
       "\n",
       "[123045 rows x 6 columns]"
      ]
     },
     "execution_count": 19,
     "metadata": {},
     "output_type": "execute_result"
    }
   ],
   "source": [
    "new_df = pd.concat([df0, df1, df2])\n",
    "new_df = new_df[['Timestamp', 'Noah - Water Use (gal)']]\n",
    "new_df[['Date', 'Time']] = new_df['Timestamp'].str.split(' ', expand = True)\n",
    "new_df['Date'] = pd.to_datetime(new_df['Date'])\n",
    "new_df['Year'] = new_df['Date'].dt.year\n",
    "new_df['Month'] = new_df['Date'].dt.month\n",
    "new_df['Day'] = new_df['Date'].dt.day_name()\n",
    "new_df = new_df[['Date', 'Year', 'Month', 'Day', 'Time', 'Noah - Water Use (gal)']]\n",
    "\n",
    "new_df.dropna(inplace=True)\n",
    "new_df"
   ]
  },
  {
   "cell_type": "code",
   "execution_count": 20,
   "metadata": {},
   "outputs": [
    {
     "data": {
      "text/plain": [
       "505818.60224"
      ]
     },
     "execution_count": 20,
     "metadata": {},
     "output_type": "execute_result"
    }
   ],
   "source": [
    "df2022 = new_df[new_df['Year'] == 2022]\n",
    "df2022['Noah - Water Use (gal)'].sum(axis = 0)"
   ]
  },
  {
   "cell_type": "code",
   "execution_count": 21,
   "metadata": {},
   "outputs": [
    {
     "data": {
      "text/html": [
       "<div>\n",
       "<style scoped>\n",
       "    .dataframe tbody tr th:only-of-type {\n",
       "        vertical-align: middle;\n",
       "    }\n",
       "\n",
       "    .dataframe tbody tr th {\n",
       "        vertical-align: top;\n",
       "    }\n",
       "\n",
       "    .dataframe thead th {\n",
       "        text-align: right;\n",
       "    }\n",
       "</style>\n",
       "<table border=\"1\" class=\"dataframe\">\n",
       "  <thead>\n",
       "    <tr style=\"text-align: right;\">\n",
       "      <th></th>\n",
       "      <th>Year</th>\n",
       "      <th>Water Use (gal)</th>\n",
       "    </tr>\n",
       "  </thead>\n",
       "  <tbody>\n",
       "    <tr>\n",
       "      <th>0</th>\n",
       "      <td>2018</td>\n",
       "      <td>396367.67509</td>\n",
       "    </tr>\n",
       "    <tr>\n",
       "      <th>1</th>\n",
       "      <td>2019</td>\n",
       "      <td>192178.86690</td>\n",
       "    </tr>\n",
       "    <tr>\n",
       "      <th>2</th>\n",
       "      <td>2020</td>\n",
       "      <td>33499.22911</td>\n",
       "    </tr>\n",
       "    <tr>\n",
       "      <th>3</th>\n",
       "      <td>2021</td>\n",
       "      <td>389750.09580</td>\n",
       "    </tr>\n",
       "    <tr>\n",
       "      <th>4</th>\n",
       "      <td>2022</td>\n",
       "      <td>505818.60224</td>\n",
       "    </tr>\n",
       "  </tbody>\n",
       "</table>\n",
       "</div>"
      ],
      "text/plain": [
       "   Year  Water Use (gal)\n",
       "0  2018     396367.67509\n",
       "1  2019     192178.86690\n",
       "2  2020      33499.22911\n",
       "3  2021     389750.09580\n",
       "4  2022     505818.60224"
      ]
     },
     "execution_count": 21,
     "metadata": {},
     "output_type": "execute_result"
    }
   ],
   "source": [
    "years = [2018, 2019, 2020, 2021, 2022]\n",
    "water_use = []\n",
    "\n",
    "for year in years:\n",
    "    buffer = new_df[new_df['Year'] == year]\n",
    "    total = buffer['Noah - Water Use (gal)'].sum(axis = 0)\n",
    "    water_use.append(total)\n",
    "    \n",
    "# water_use\n",
    "year_record = {\n",
    "    'Year' : years,\n",
    "    'Water Use (gal)' : water_use\n",
    "}\n",
    "\n",
    "year_df = pd.DataFrame(year_record, columns = ['Year', 'Water Use (gal)'])\n",
    "year_df"
   ]
  },
  {
   "cell_type": "code",
   "execution_count": 22,
   "metadata": {},
   "outputs": [
    {
     "data": {
      "image/png": "[encoded data removed]",
      "text/plain": [
       "<Figure size 432x288 with 1 Axes>"
      ]
     },
     "metadata": {
      "needs_background": "light"
     },
     "output_type": "display_data"
    }
   ],
   "source": [
    "year_df.plot(kind = 'bar', x = 'Year', y = 'Water Use (gal)', color = 'blue')\n",
    "plt.title('5-Year-Record')\n",
    "plt.show()"
   ]
  },
  {
   "cell_type": "code",
   "execution_count": 23,
   "metadata": {},
   "outputs": [
    {
     "data": {
      "text/html": [
       "<div>\n",
       "<style scoped>\n",
       "    .dataframe tbody tr th:only-of-type {\n",
       "        vertical-align: middle;\n",
       "    }\n",
       "\n",
       "    .dataframe tbody tr th {\n",
       "        vertical-align: top;\n",
       "    }\n",
       "\n",
       "    .dataframe thead th {\n",
       "        text-align: right;\n",
       "    }\n",
       "</style>\n",
       "<table border=\"1\" class=\"dataframe\">\n",
       "  <thead>\n",
       "    <tr style=\"text-align: right;\">\n",
       "      <th></th>\n",
       "      <th>Date</th>\n",
       "      <th>Year</th>\n",
       "      <th>Month</th>\n",
       "      <th>Day</th>\n",
       "      <th>Time</th>\n",
       "      <th>Noah - Water Use (gal)</th>\n",
       "    </tr>\n",
       "  </thead>\n",
       "  <tbody>\n",
       "    <tr>\n",
       "      <th>40072</th>\n",
       "      <td>2022-01-01</td>\n",
       "      <td>2022</td>\n",
       "      <td>1</td>\n",
       "      <td>Saturday</td>\n",
       "      <td>00:00</td>\n",
       "      <td>3.63205</td>\n",
       "    </tr>\n",
       "    <tr>\n",
       "      <th>40073</th>\n",
       "      <td>2022-01-01</td>\n",
       "      <td>2022</td>\n",
       "      <td>1</td>\n",
       "      <td>Saturday</td>\n",
       "      <td>00:15</td>\n",
       "      <td>5.63877</td>\n",
       "    </tr>\n",
       "    <tr>\n",
       "      <th>40074</th>\n",
       "      <td>2022-01-01</td>\n",
       "      <td>2022</td>\n",
       "      <td>1</td>\n",
       "      <td>Saturday</td>\n",
       "      <td>00:30</td>\n",
       "      <td>3.63215</td>\n",
       "    </tr>\n",
       "    <tr>\n",
       "      <th>40075</th>\n",
       "      <td>2022-01-01</td>\n",
       "      <td>2022</td>\n",
       "      <td>1</td>\n",
       "      <td>Saturday</td>\n",
       "      <td>00:45</td>\n",
       "      <td>6.19221</td>\n",
       "    </tr>\n",
       "    <tr>\n",
       "      <th>40076</th>\n",
       "      <td>2022-01-01</td>\n",
       "      <td>2022</td>\n",
       "      <td>1</td>\n",
       "      <td>Saturday</td>\n",
       "      <td>01:00</td>\n",
       "      <td>0.27672</td>\n",
       "    </tr>\n",
       "    <tr>\n",
       "      <th>...</th>\n",
       "      <td>...</td>\n",
       "      <td>...</td>\n",
       "      <td>...</td>\n",
       "      <td>...</td>\n",
       "      <td>...</td>\n",
       "      <td>...</td>\n",
       "    </tr>\n",
       "    <tr>\n",
       "      <th>25069</th>\n",
       "      <td>2022-12-31</td>\n",
       "      <td>2022</td>\n",
       "      <td>12</td>\n",
       "      <td>Saturday</td>\n",
       "      <td>22:45</td>\n",
       "      <td>0.86475</td>\n",
       "    </tr>\n",
       "    <tr>\n",
       "      <th>25070</th>\n",
       "      <td>2022-12-31</td>\n",
       "      <td>2022</td>\n",
       "      <td>12</td>\n",
       "      <td>Saturday</td>\n",
       "      <td>23:00</td>\n",
       "      <td>3.35533</td>\n",
       "    </tr>\n",
       "    <tr>\n",
       "      <th>25071</th>\n",
       "      <td>2022-12-31</td>\n",
       "      <td>2022</td>\n",
       "      <td>12</td>\n",
       "      <td>Saturday</td>\n",
       "      <td>23:15</td>\n",
       "      <td>2.83638</td>\n",
       "    </tr>\n",
       "    <tr>\n",
       "      <th>25072</th>\n",
       "      <td>2022-12-31</td>\n",
       "      <td>2022</td>\n",
       "      <td>12</td>\n",
       "      <td>Saturday</td>\n",
       "      <td>23:30</td>\n",
       "      <td>0.89934</td>\n",
       "    </tr>\n",
       "    <tr>\n",
       "      <th>25073</th>\n",
       "      <td>2022-12-31</td>\n",
       "      <td>2022</td>\n",
       "      <td>12</td>\n",
       "      <td>Saturday</td>\n",
       "      <td>23:45</td>\n",
       "      <td>0.93393</td>\n",
       "    </tr>\n",
       "  </tbody>\n",
       "</table>\n",
       "<p>34977 rows × 6 columns</p>\n",
       "</div>"
      ],
      "text/plain": [
       "            Date  Year  Month       Day   Time  Noah - Water Use (gal)\n",
       "40072 2022-01-01  2022      1  Saturday  00:00                 3.63205\n",
       "40073 2022-01-01  2022      1  Saturday  00:15                 5.63877\n",
       "40074 2022-01-01  2022      1  Saturday  00:30                 3.63215\n",
       "40075 2022-01-01  2022      1  Saturday  00:45                 6.19221\n",
       "40076 2022-01-01  2022      1  Saturday  01:00                 0.27672\n",
       "...          ...   ...    ...       ...    ...                     ...\n",
       "25069 2022-12-31  2022     12  Saturday  22:45                 0.86475\n",
       "25070 2022-12-31  2022     12  Saturday  23:00                 3.35533\n",
       "25071 2022-12-31  2022     12  Saturday  23:15                 2.83638\n",
       "25072 2022-12-31  2022     12  Saturday  23:30                 0.89934\n",
       "25073 2022-12-31  2022     12  Saturday  23:45                 0.93393\n",
       "\n",
       "[34977 rows x 6 columns]"
      ]
     },
     "execution_count": 23,
     "metadata": {},
     "output_type": "execute_result"
    }
   ],
   "source": [
    "df2022"
   ]
  },
  {
   "cell_type": "code",
   "execution_count": 24,
   "metadata": {},
   "outputs": [
    {
     "data": {
      "text/html": [
       "<div>\n",
       "<style scoped>\n",
       "    .dataframe tbody tr th:only-of-type {\n",
       "        vertical-align: middle;\n",
       "    }\n",
       "\n",
       "    .dataframe tbody tr th {\n",
       "        vertical-align: top;\n",
       "    }\n",
       "\n",
       "    .dataframe thead th {\n",
       "        text-align: right;\n",
       "    }\n",
       "</style>\n",
       "<table border=\"1\" class=\"dataframe\">\n",
       "  <thead>\n",
       "    <tr style=\"text-align: right;\">\n",
       "      <th></th>\n",
       "      <th>Month</th>\n",
       "      <th>Water Use (gal)</th>\n",
       "    </tr>\n",
       "  </thead>\n",
       "  <tbody>\n",
       "    <tr>\n",
       "      <th>0</th>\n",
       "      <td>1</td>\n",
       "      <td>44958.98543</td>\n",
       "    </tr>\n",
       "    <tr>\n",
       "      <th>1</th>\n",
       "      <td>2</td>\n",
       "      <td>50846.98439</td>\n",
       "    </tr>\n",
       "    <tr>\n",
       "      <th>2</th>\n",
       "      <td>3</td>\n",
       "      <td>63220.42987</td>\n",
       "    </tr>\n",
       "    <tr>\n",
       "      <th>3</th>\n",
       "      <td>4</td>\n",
       "      <td>50584.17156</td>\n",
       "    </tr>\n",
       "    <tr>\n",
       "      <th>4</th>\n",
       "      <td>5</td>\n",
       "      <td>60384.46523</td>\n",
       "    </tr>\n",
       "    <tr>\n",
       "      <th>5</th>\n",
       "      <td>6</td>\n",
       "      <td>8917.16964</td>\n",
       "    </tr>\n",
       "    <tr>\n",
       "      <th>6</th>\n",
       "      <td>7</td>\n",
       "      <td>2503.42018</td>\n",
       "    </tr>\n",
       "    <tr>\n",
       "      <th>7</th>\n",
       "      <td>8</td>\n",
       "      <td>13819.77730</td>\n",
       "    </tr>\n",
       "    <tr>\n",
       "      <th>8</th>\n",
       "      <td>9</td>\n",
       "      <td>59754.67702</td>\n",
       "    </tr>\n",
       "    <tr>\n",
       "      <th>9</th>\n",
       "      <td>10</td>\n",
       "      <td>54018.68021</td>\n",
       "    </tr>\n",
       "    <tr>\n",
       "      <th>10</th>\n",
       "      <td>11</td>\n",
       "      <td>54263.93444</td>\n",
       "    </tr>\n",
       "    <tr>\n",
       "      <th>11</th>\n",
       "      <td>12</td>\n",
       "      <td>42545.90697</td>\n",
       "    </tr>\n",
       "  </tbody>\n",
       "</table>\n",
       "</div>"
      ],
      "text/plain": [
       "    Month  Water Use (gal)\n",
       "0       1      44958.98543\n",
       "1       2      50846.98439\n",
       "2       3      63220.42987\n",
       "3       4      50584.17156\n",
       "4       5      60384.46523\n",
       "5       6       8917.16964\n",
       "6       7       2503.42018\n",
       "7       8      13819.77730\n",
       "8       9      59754.67702\n",
       "9      10      54018.68021\n",
       "10     11      54263.93444\n",
       "11     12      42545.90697"
      ]
     },
     "execution_count": 24,
     "metadata": {},
     "output_type": "execute_result"
    }
   ],
   "source": [
    "months = [1, 2, 3, 4, 5, 6, 7, 8, 9, 10, 11, 12]\n",
    "monthly_usage_2022 = []\n",
    "\n",
    "for month in months:\n",
    "    buffer = df2022[df2022['Month'] == month]\n",
    "    total = buffer['Noah - Water Use (gal)'].sum(axis = 0)\n",
    "    monthly_usage_2022.append(total)\n",
    "    \n",
    "# monthly_usage\n",
    "record_of_2022 = {\n",
    "    'Month' : months,\n",
    "    'Water Use (gal)' : monthly_usage_2022\n",
    "}\n",
    "\n",
    "df_2022_rec = pd.DataFrame(record_of_2022, columns = ['Month', 'Water Use (gal)'])\n",
    "df_2022_rec"
   ]
  },
  {
   "cell_type": "code",
   "execution_count": 25,
   "metadata": {},
   "outputs": [
    {
     "data": {
      "image/png": "[encoded data removed]",
      "text/plain": [
       "<Figure size 432x288 with 1 Axes>"
      ]
     },
     "metadata": {
      "needs_background": "light"
     },
     "output_type": "display_data"
    }
   ],
   "source": [
    "df_2022_rec.plot(kind = 'bar', x = 'Month', y = 'Water Use (gal)', color = 'blue')\n",
    "plt.title('Water Usage of 2022')\n",
    "plt.show()"
   ]
  },
  {
   "cell_type": "code",
   "execution_count": 26,
   "metadata": {},
   "outputs": [
    {
     "data": {
      "text/html": [
       "<div>\n",
       "<style scoped>\n",
       "    .dataframe tbody tr th:only-of-type {\n",
       "        vertical-align: middle;\n",
       "    }\n",
       "\n",
       "    .dataframe tbody tr th {\n",
       "        vertical-align: top;\n",
       "    }\n",
       "\n",
       "    .dataframe thead th {\n",
       "        text-align: right;\n",
       "    }\n",
       "</style>\n",
       "<table border=\"1\" class=\"dataframe\">\n",
       "  <thead>\n",
       "    <tr style=\"text-align: right;\">\n",
       "      <th></th>\n",
       "      <th>Month</th>\n",
       "      <th>Water Use (gal)</th>\n",
       "    </tr>\n",
       "  </thead>\n",
       "  <tbody>\n",
       "    <tr>\n",
       "      <th>0</th>\n",
       "      <td>1</td>\n",
       "      <td>17619.68137</td>\n",
       "    </tr>\n",
       "    <tr>\n",
       "      <th>1</th>\n",
       "      <td>2</td>\n",
       "      <td>39708.01290</td>\n",
       "    </tr>\n",
       "    <tr>\n",
       "      <th>2</th>\n",
       "      <td>3</td>\n",
       "      <td>44386.10663</td>\n",
       "    </tr>\n",
       "    <tr>\n",
       "      <th>3</th>\n",
       "      <td>4</td>\n",
       "      <td>43010.03623</td>\n",
       "    </tr>\n",
       "    <tr>\n",
       "      <th>4</th>\n",
       "      <td>5</td>\n",
       "      <td>20530.00501</td>\n",
       "    </tr>\n",
       "    <tr>\n",
       "      <th>5</th>\n",
       "      <td>6</td>\n",
       "      <td>1694.01337</td>\n",
       "    </tr>\n",
       "    <tr>\n",
       "      <th>6</th>\n",
       "      <td>7</td>\n",
       "      <td>2642.14267</td>\n",
       "    </tr>\n",
       "    <tr>\n",
       "      <th>7</th>\n",
       "      <td>8</td>\n",
       "      <td>29102.07780</td>\n",
       "    </tr>\n",
       "    <tr>\n",
       "      <th>8</th>\n",
       "      <td>9</td>\n",
       "      <td>24505.47861</td>\n",
       "    </tr>\n",
       "    <tr>\n",
       "      <th>9</th>\n",
       "      <td>10</td>\n",
       "      <td>61465.04869</td>\n",
       "    </tr>\n",
       "    <tr>\n",
       "      <th>10</th>\n",
       "      <td>11</td>\n",
       "      <td>52146.89067</td>\n",
       "    </tr>\n",
       "    <tr>\n",
       "      <th>11</th>\n",
       "      <td>12</td>\n",
       "      <td>52940.60185</td>\n",
       "    </tr>\n",
       "  </tbody>\n",
       "</table>\n",
       "</div>"
      ],
      "text/plain": [
       "    Month  Water Use (gal)\n",
       "0       1      17619.68137\n",
       "1       2      39708.01290\n",
       "2       3      44386.10663\n",
       "3       4      43010.03623\n",
       "4       5      20530.00501\n",
       "5       6       1694.01337\n",
       "6       7       2642.14267\n",
       "7       8      29102.07780\n",
       "8       9      24505.47861\n",
       "9      10      61465.04869\n",
       "10     11      52146.89067\n",
       "11     12      52940.60185"
      ]
     },
     "execution_count": 26,
     "metadata": {},
     "output_type": "execute_result"
    }
   ],
   "source": [
    "df2021 = new_df[new_df['Year'] == 2021]\n",
    "monthly_usage_2021 = []\n",
    "\n",
    "for month in months:\n",
    "    buffer = df2021[df2021['Month'] == month]\n",
    "    total = buffer['Noah - Water Use (gal)'].sum(axis = 0)\n",
    "    monthly_usage_2021.append(total)\n",
    "    \n",
    "# monthly_usage\n",
    "record_of_2021 = {\n",
    "    'Month' : months,\n",
    "    'Water Use (gal)' : monthly_usage_2021\n",
    "}\n",
    "\n",
    "df_2021_rec = pd.DataFrame(record_of_2021, columns = ['Month', 'Water Use (gal)'])\n",
    "df_2021_rec"
   ]
  },
  {
   "cell_type": "code",
   "execution_count": 27,
   "metadata": {},
   "outputs": [
    {
     "data": {
      "image/png": "[encoded data removed]",
      "text/plain": [
       "<Figure size 432x288 with 1 Axes>"
      ]
     },
     "metadata": {
      "needs_background": "light"
     },
     "output_type": "display_data"
    }
   ],
   "source": [
    "df_2021_rec.plot(kind = 'bar', x = 'Month', y = 'Water Use (gal)', color = 'blue')\n",
    "plt.title('Water Usage of 2021')\n",
    "plt.show()"
   ]
  }
 ],
 "metadata": {
  "kernelspec": {
   "display_name": "Python 3 (ipykernel)",
   "language": "python",
   "name": "python3"
  },
  "language_info": {
   "codemirror_mode": {
    "name": "ipython",
    "version": 3
   },
   "file_extension": ".py",
   "mimetype": "text/x-python",
   "name": "python",
   "nbconvert_exporter": "python",
   "pygments_lexer": "ipython3",
   "version": "3.9.12 (main, Apr  4 2022, 05:22:27) [MSC v.1916 64 bit (AMD64)]"
  },
  "nbdime-conflicts": {
   "local_diff": [
    {
     "diff": [
      {
       "diff": [
        {
         "key": 0,
         "op": "addrange",
         "valuelist": [
          "3.9.12 (main, Apr  4 2022, 05:22:27) [MSC v.1916 64 bit (AMD64)]"
         ]
        },
        {
         "key": 0,
         "length": 1,
         "op": "removerange"
        }
       ],
       "key": "version",
       "op": "patch"
      }
     ],
     "key": "language_info",
     "op": "patch"
    }
   ],
   "remote_diff": [
    {
     "diff": [
      {
       "diff": [
        {
         "key": 0,
         "op": "addrange",
         "valuelist": [
          "3.10.0"
         ]
        },
        {
         "key": 0,
         "length": 1,
         "op": "removerange"
        }
       ],
       "key": "version",
       "op": "patch"
      }
     ],
     "key": "language_info",
     "op": "patch"
    }
   ]
  },
  "vscode": {
   "interpreter": {
    "hash": "610a6f344c2137faf927ea819c63f6cee33a2c04455044b28099f39fe9722347"
   }
  }
 },
 "nbformat": 4,
 "nbformat_minor": 2
}
